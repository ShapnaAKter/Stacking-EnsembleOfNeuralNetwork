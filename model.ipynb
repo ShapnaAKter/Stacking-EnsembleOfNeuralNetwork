{
  "nbformat": 4,
  "nbformat_minor": 0,
  "metadata": {
    "colab": {
      "name": "Uttarabank.ipynb",
      "provenance": [],
      "collapsed_sections": []
    },
    "kernelspec": {
      "name": "python3",
      "display_name": "Python 3"
    }
  },
  "cells": [
    {
      "cell_type": "code",
      "metadata": {
        "id": "0uXHla7Br4Xy"
      },
      "source": [
        "import math\n",
        "import matplotlib.pyplot as plt\n",
        "import keras\n",
        "import pandas as pd\n",
        "import numpy as np\n",
        "from keras.models import Sequential\n",
        "from keras.utils import plot_model\n",
        "from keras.models import Model\n",
        "from keras.layers import Dense\n",
        "from keras.layers import LSTM\n",
        "from keras.layers import Dropout\n",
        "from keras.layers import *\n",
        "from sklearn.preprocessing import MinMaxScaler\n",
        "from sklearn.metrics import mean_squared_error\n",
        "from sklearn.metrics import mean_absolute_error\n",
        "from sklearn.model_selection import train_test_split\n",
        "from keras.callbacks import EarlyStopping\n"
      ],
      "execution_count": null,
      "outputs": []
    },
    {
      "cell_type": "code",
      "metadata": {
        "colab": {
          "base_uri": "https://localhost:8080/",
          "height": 200
        },
        "id": "AK2bgaExsJBT",
        "outputId": "597fe1bc-28d6-4c9c-e9b0-6ec494c95f72"
      },
      "source": [
        "df=pd.read_csv(\"/content/ABBANK.csv\",parse_dates=['DATE'])\n",
        "df.head()"
      ],
      "execution_count": null,
      "outputs": [
        {
          "output_type": "execute_result",
          "data": {
            "text/html": [
              "<div>\n",
              "<style scoped>\n",
              "    .dataframe tbody tr th:only-of-type {\n",
              "        vertical-align: middle;\n",
              "    }\n",
              "\n",
              "    .dataframe tbody tr th {\n",
              "        vertical-align: top;\n",
              "    }\n",
              "\n",
              "    .dataframe thead th {\n",
              "        text-align: right;\n",
              "    }\n",
              "</style>\n",
              "<table border=\"1\" class=\"dataframe\">\n",
              "  <thead>\n",
              "    <tr style=\"text-align: right;\">\n",
              "      <th></th>\n",
              "      <th>#</th>\n",
              "      <th>DATE</th>\n",
              "      <th>TRADING CODE</th>\n",
              "      <th>LTP*</th>\n",
              "      <th>HIGH</th>\n",
              "      <th>LOW</th>\n",
              "      <th>OPENP*</th>\n",
              "      <th>CLOSEP*</th>\n",
              "      <th>YCP</th>\n",
              "      <th>TRADE</th>\n",
              "      <th>VALUE (mn)</th>\n",
              "      <th>VOLUME</th>\n",
              "    </tr>\n",
              "  </thead>\n",
              "  <tbody>\n",
              "    <tr>\n",
              "      <th>0</th>\n",
              "      <td>439</td>\n",
              "      <td>2018-05-08</td>\n",
              "      <td>DHAKABANK</td>\n",
              "      <td>14.3</td>\n",
              "      <td>14.7</td>\n",
              "      <td>14.0</td>\n",
              "      <td>14.3</td>\n",
              "      <td>14.3</td>\n",
              "      <td>14.2</td>\n",
              "      <td>538.0</td>\n",
              "      <td>30.013</td>\n",
              "      <td>2088763.0</td>\n",
              "    </tr>\n",
              "    <tr>\n",
              "      <th>1</th>\n",
              "      <td>438</td>\n",
              "      <td>2018-06-08</td>\n",
              "      <td>DHAKABANK</td>\n",
              "      <td>13.6</td>\n",
              "      <td>14.2</td>\n",
              "      <td>13.5</td>\n",
              "      <td>14.1</td>\n",
              "      <td>13.7</td>\n",
              "      <td>14.3</td>\n",
              "      <td>625.0</td>\n",
              "      <td>45.679</td>\n",
              "      <td>3316895.0</td>\n",
              "    </tr>\n",
              "    <tr>\n",
              "      <th>2</th>\n",
              "      <td>437</td>\n",
              "      <td>2018-07-08</td>\n",
              "      <td>DHAKABANK</td>\n",
              "      <td>13.8</td>\n",
              "      <td>14.1</td>\n",
              "      <td>13.6</td>\n",
              "      <td>13.9</td>\n",
              "      <td>13.9</td>\n",
              "      <td>13.7</td>\n",
              "      <td>464.0</td>\n",
              "      <td>30.636</td>\n",
              "      <td>2199851.0</td>\n",
              "    </tr>\n",
              "    <tr>\n",
              "      <th>3</th>\n",
              "      <td>436</td>\n",
              "      <td>2018-08-08</td>\n",
              "      <td>DHAKABANK</td>\n",
              "      <td>14.3</td>\n",
              "      <td>14.6</td>\n",
              "      <td>13.8</td>\n",
              "      <td>13.9</td>\n",
              "      <td>14.4</td>\n",
              "      <td>13.9</td>\n",
              "      <td>675.0</td>\n",
              "      <td>48.724</td>\n",
              "      <td>3426870.0</td>\n",
              "    </tr>\n",
              "    <tr>\n",
              "      <th>4</th>\n",
              "      <td>435</td>\n",
              "      <td>2018-09-08</td>\n",
              "      <td>DHAKABANK</td>\n",
              "      <td>14.8</td>\n",
              "      <td>15.1</td>\n",
              "      <td>14.5</td>\n",
              "      <td>14.6</td>\n",
              "      <td>14.9</td>\n",
              "      <td>14.4</td>\n",
              "      <td>868.0</td>\n",
              "      <td>70.769</td>\n",
              "      <td>4772611.0</td>\n",
              "    </tr>\n",
              "  </tbody>\n",
              "</table>\n",
              "</div>"
            ],
            "text/plain": [
              "     #       DATE TRADING CODE  LTP*  ...   YCP  TRADE  VALUE (mn)     VOLUME\n",
              "0  439 2018-05-08    DHAKABANK  14.3  ...  14.2  538.0      30.013  2088763.0\n",
              "1  438 2018-06-08    DHAKABANK  13.6  ...  14.3  625.0      45.679  3316895.0\n",
              "2  437 2018-07-08    DHAKABANK  13.8  ...  13.7  464.0      30.636  2199851.0\n",
              "3  436 2018-08-08    DHAKABANK  14.3  ...  13.9  675.0      48.724  3426870.0\n",
              "4  435 2018-09-08    DHAKABANK  14.8  ...  14.4  868.0      70.769  4772611.0\n",
              "\n",
              "[5 rows x 12 columns]"
            ]
          },
          "metadata": {
            "tags": []
          },
          "execution_count": 2
        }
      ]
    },
    {
      "cell_type": "code",
      "metadata": {
        "colab": {
          "base_uri": "https://localhost:8080/",
          "height": 200
        },
        "id": "1Y5lOlWlsO2i",
        "outputId": "15a9f61e-19c2-460a-e737-49fafc27e058"
      },
      "source": [
        "# Sort DataFrame by date\n",
        "df = df.sort_values('DATE')\n",
        "\n",
        "# Double check the result\n",
        "df.head()\n"
      ],
      "execution_count": null,
      "outputs": [
        {
          "output_type": "execute_result",
          "data": {
            "text/html": [
              "<div>\n",
              "<style scoped>\n",
              "    .dataframe tbody tr th:only-of-type {\n",
              "        vertical-align: middle;\n",
              "    }\n",
              "\n",
              "    .dataframe tbody tr th {\n",
              "        vertical-align: top;\n",
              "    }\n",
              "\n",
              "    .dataframe thead th {\n",
              "        text-align: right;\n",
              "    }\n",
              "</style>\n",
              "<table border=\"1\" class=\"dataframe\">\n",
              "  <thead>\n",
              "    <tr style=\"text-align: right;\">\n",
              "      <th></th>\n",
              "      <th>#</th>\n",
              "      <th>DATE</th>\n",
              "      <th>TRADING CODE</th>\n",
              "      <th>LTP*</th>\n",
              "      <th>HIGH</th>\n",
              "      <th>LOW</th>\n",
              "      <th>OPENP*</th>\n",
              "      <th>CLOSEP*</th>\n",
              "      <th>YCP</th>\n",
              "      <th>TRADE</th>\n",
              "      <th>VALUE (mn)</th>\n",
              "      <th>VOLUME</th>\n",
              "    </tr>\n",
              "  </thead>\n",
              "  <tbody>\n",
              "    <tr>\n",
              "      <th>36</th>\n",
              "      <td>403</td>\n",
              "      <td>2018-01-10</td>\n",
              "      <td>DHAKABANK</td>\n",
              "      <td>14.3</td>\n",
              "      <td>14.4</td>\n",
              "      <td>14.2</td>\n",
              "      <td>14.2</td>\n",
              "      <td>14.3</td>\n",
              "      <td>14.3</td>\n",
              "      <td>183.0</td>\n",
              "      <td>10.302</td>\n",
              "      <td>720101.0</td>\n",
              "    </tr>\n",
              "    <tr>\n",
              "      <th>59</th>\n",
              "      <td>380</td>\n",
              "      <td>2018-01-11</td>\n",
              "      <td>DHAKABANK</td>\n",
              "      <td>14.1</td>\n",
              "      <td>14.3</td>\n",
              "      <td>14.1</td>\n",
              "      <td>14.2</td>\n",
              "      <td>14.2</td>\n",
              "      <td>14.3</td>\n",
              "      <td>109.0</td>\n",
              "      <td>7.905</td>\n",
              "      <td>555214.0</td>\n",
              "    </tr>\n",
              "    <tr>\n",
              "      <th>37</th>\n",
              "      <td>402</td>\n",
              "      <td>2018-02-10</td>\n",
              "      <td>DHAKABANK</td>\n",
              "      <td>14.5</td>\n",
              "      <td>14.5</td>\n",
              "      <td>14.2</td>\n",
              "      <td>14.3</td>\n",
              "      <td>14.4</td>\n",
              "      <td>14.3</td>\n",
              "      <td>188.0</td>\n",
              "      <td>14.376</td>\n",
              "      <td>1001308.0</td>\n",
              "    </tr>\n",
              "    <tr>\n",
              "      <th>79</th>\n",
              "      <td>360</td>\n",
              "      <td>2018-02-12</td>\n",
              "      <td>DHAKABANK</td>\n",
              "      <td>14.2</td>\n",
              "      <td>14.3</td>\n",
              "      <td>14.0</td>\n",
              "      <td>14.1</td>\n",
              "      <td>14.0</td>\n",
              "      <td>14.1</td>\n",
              "      <td>199.0</td>\n",
              "      <td>9.782</td>\n",
              "      <td>692390.0</td>\n",
              "    </tr>\n",
              "    <tr>\n",
              "      <th>16</th>\n",
              "      <td>423</td>\n",
              "      <td>2018-03-09</td>\n",
              "      <td>DHAKABANK</td>\n",
              "      <td>15.8</td>\n",
              "      <td>16.6</td>\n",
              "      <td>15.6</td>\n",
              "      <td>16.4</td>\n",
              "      <td>15.9</td>\n",
              "      <td>16.5</td>\n",
              "      <td>713.0</td>\n",
              "      <td>70.583</td>\n",
              "      <td>4386733.0</td>\n",
              "    </tr>\n",
              "  </tbody>\n",
              "</table>\n",
              "</div>"
            ],
            "text/plain": [
              "      #       DATE TRADING CODE  LTP*  ...   YCP  TRADE  VALUE (mn)     VOLUME\n",
              "36  403 2018-01-10    DHAKABANK  14.3  ...  14.3  183.0      10.302   720101.0\n",
              "59  380 2018-01-11    DHAKABANK  14.1  ...  14.3  109.0       7.905   555214.0\n",
              "37  402 2018-02-10    DHAKABANK  14.5  ...  14.3  188.0      14.376  1001308.0\n",
              "79  360 2018-02-12    DHAKABANK  14.2  ...  14.1  199.0       9.782   692390.0\n",
              "16  423 2018-03-09    DHAKABANK  15.8  ...  16.5  713.0      70.583  4386733.0\n",
              "\n",
              "[5 rows x 12 columns]"
            ]
          },
          "metadata": {
            "tags": []
          },
          "execution_count": 3
        }
      ]
    },
    {
      "cell_type": "code",
      "metadata": {
        "id": "UeI16NCtsQ5B"
      },
      "source": [
        "df['daily_ret'] = df['CLOSEP*'].pct_change()\n",
        "df['daily_ret'] = df['daily_ret'].fillna(0.0)"
      ],
      "execution_count": null,
      "outputs": []
    },
    {
      "cell_type": "code",
      "metadata": {
        "id": "9YwSKRCcsSLS"
      },
      "source": [
        "df['volatility']= df['daily_ret'].rolling(window=21).std()\n",
        "df['volatility'] = df['volatility'].fillna(0.0)\n"
      ],
      "execution_count": null,
      "outputs": []
    },
    {
      "cell_type": "code",
      "metadata": {
        "id": "3Fz8OXQUsV54"
      },
      "source": [
        "df['volatility'] = df['volatility']*100"
      ],
      "execution_count": null,
      "outputs": []
    },
    {
      "cell_type": "code",
      "metadata": {
        "id": "HWLu9cdKsYVR"
      },
      "source": [
        "import matplotlib.pyplot as plt "
      ],
      "execution_count": null,
      "outputs": []
    },
    {
      "cell_type": "code",
      "metadata": {
        "id": "PEK4n4yisaQI"
      },
      "source": [
        "df=df.reset_index()['volatility']"
      ],
      "execution_count": null,
      "outputs": []
    },
    {
      "cell_type": "code",
      "metadata": {
        "colab": {
          "base_uri": "https://localhost:8080/",
          "height": 287
        },
        "id": "7Afvy0KPsbZL",
        "outputId": "f500c304-1de4-4318-ebbe-722d228a1fd3"
      },
      "source": [
        "plt.plot(df)"
      ],
      "execution_count": null,
      "outputs": [
        {
          "output_type": "execute_result",
          "data": {
            "text/plain": [
              "[<matplotlib.lines.Line2D at 0x7ffa8a44d210>]"
            ]
          },
          "metadata": {
            "tags": []
          },
          "execution_count": 9
        },
        {
          "output_type": "display_data",
          "data": {
            "image/png": "[encoded data removed]",
            "text/plain": [
              "<Figure size 432x288 with 1 Axes>"
            ]
          },
          "metadata": {
            "tags": [],
            "needs_background": "light"
          }
        }
      ]
    },
    {
      "cell_type": "code",
      "metadata": {
        "id": "OuetuU_-sdgR"
      },
      "source": [
        "from sklearn.preprocessing import MinMaxScaler\n",
        "scaler=MinMaxScaler(feature_range=(0,1))\n",
        "df=scaler.fit_transform(np.array(df).reshape(-1,1))"
      ],
      "execution_count": null,
      "outputs": []
    },
    {
      "cell_type": "code",
      "metadata": {
        "id": "kuN_RgVbsfNZ"
      },
      "source": [
        "##splitting dataset into train and test split where train=70 percent and test=30 percent\n",
        "training_size=int(len(df)*0.70)\n",
        "test_size=len(df)-training_size\n",
        "train_data,test_data=df[0:training_size,:],df[training_size:len(df),:1]\n",
        "\n",
        "\n"
      ],
      "execution_count": null,
      "outputs": []
    },
    {
      "cell_type": "code",
      "metadata": {
        "id": "wApojTrOsgVy"
      },
      "source": [
        "import numpy\n",
        "# convert an array of values into a dataset matrix\n",
        "def create_dataset(dataset, time_step=1):\n",
        "\tdataX, dataY = [],[]\n",
        "\tfor i in range(len(dataset)-time_step-1):\n",
        "\t\ta = dataset[i:(i+time_step), 0]   ###i=0, 0,1,2,3-----99   100 \n",
        "\t\tdataX.append(a)\n",
        "\t\tdataY.append(dataset[i + time_step, 0])\n",
        "\treturn numpy.array(dataX), numpy.array(dataY)"
      ],
      "execution_count": null,
      "outputs": []
    },
    {
      "cell_type": "code",
      "metadata": {
        "id": "H9jJYxtsshVw"
      },
      "source": [
        "\n",
        "# reshape into X=t,t+1,t+2,t+3 and Y=t+4\n",
        "time_step = 100\n",
        "X_train, y_train = create_dataset(train_data, time_step)\n",
        "X_test, ytest = create_dataset(test_data, time_step)"
      ],
      "execution_count": null,
      "outputs": []
    },
    {
      "cell_type": "code",
      "metadata": {
        "colab": {
          "base_uri": "https://localhost:8080/"
        },
        "id": "7rVLOeqgsjL4",
        "outputId": "ebd56cb3-fe6e-45ee-e329-7efbba305a61"
      },
      "source": [
        "\n",
        "print(X_train.shape), print(y_train.shape)"
      ],
      "execution_count": null,
      "outputs": [
        {
          "output_type": "stream",
          "text": [
            "(206, 100)\n",
            "(206,)\n"
          ],
          "name": "stdout"
        },
        {
          "output_type": "execute_result",
          "data": {
            "text/plain": [
              "(None, None)"
            ]
          },
          "metadata": {
            "tags": []
          },
          "execution_count": 14
        }
      ]
    },
    {
      "cell_type": "code",
      "metadata": {
        "id": "QQo2eavLskSx"
      },
      "source": [
        "# reshape input to be [samples, time steps, features] which is required for LSTM\n",
        "X_train =X_train.reshape(X_train.shape[0],X_train.shape[1] , 1)\n",
        "X_test = X_test.reshape(X_test.shape[0],X_test.shape[1] , 1)"
      ],
      "execution_count": null,
      "outputs": []
    },
    {
      "cell_type": "code",
      "metadata": {
        "colab": {
          "base_uri": "https://localhost:8080/"
        },
        "id": "BnX_r9R1slRh",
        "outputId": "85ae8a5b-82a8-4ee1-b084-5f6713751f4c"
      },
      "source": [
        "\n",
        "X_test.shape\n"
      ],
      "execution_count": null,
      "outputs": [
        {
          "output_type": "execute_result",
          "data": {
            "text/plain": [
              "(31, 100, 1)"
            ]
          },
          "metadata": {
            "tags": []
          },
          "execution_count": 16
        }
      ]
    },
    {
      "cell_type": "code",
      "metadata": {
        "id": "nxg1mX-RsnDJ"
      },
      "source": [
        "\n",
        "\n",
        "filepath1 = \"/content/drive/MyDrive/StockPriceEnsembleDL/modelsAbbank/model1.h5\"\n",
        "filepath2 = \"/content/drive/MyDrive/StockPriceEnsembleDL/modelsAbbank/model2.h5\"\n",
        "filepath3 = \"/content/drive/MyDrive/StockPriceEnsembleDL/modelsAbbank/model3.h5\"\n"
      ],
      "execution_count": null,
      "outputs": []
    },
    {
      "cell_type": "code",
      "metadata": {
        "colab": {
          "base_uri": "https://localhost:8080/"
        },
        "id": "KIyzLWVDsoQn",
        "outputId": "54262c08-1d57-4515-c373-f8f4407974bb"
      },
      "source": [
        "\n",
        "#1D cnn model\n",
        "# define model\n",
        "model1 = Sequential()\n",
        "model1.add(Conv1D(filters=64, kernel_size=2, activation='relu', input_shape=(100,1)))\n",
        "model1.add(MaxPooling1D(pool_size=2))\n",
        "model1.add(Flatten())\n",
        "model1.add(Dense(50, activation='relu'))\n",
        "model1.add(Dense(1))\n",
        "model1.compile(optimizer='adam', loss='mse')\n",
        "model1.fit(X_train,y_train,validation_data=(X_test,ytest),epochs=100,batch_size=32,verbose=1)\n"
      ],
      "execution_count": null,
      "outputs": [
        {
          "output_type": "stream",
          "text": [
            "Epoch 1/100\n",
            "7/7 [==============================] - 1s 76ms/step - loss: 0.1605 - val_loss: 0.0172\n",
            "Epoch 2/100\n",
            "7/7 [==============================] - 0s 10ms/step - loss: 0.0329 - val_loss: 0.0368\n",
            "Epoch 3/100\n",
            "7/7 [==============================] - 0s 9ms/step - loss: 0.0222 - val_loss: 0.0293\n",
            "Epoch 4/100\n",
            "7/7 [==============================] - 0s 9ms/step - loss: 0.0187 - val_loss: 0.0200\n",
            "Epoch 5/100\n",
            "7/7 [==============================] - 0s 10ms/step - loss: 0.0182 - val_loss: 0.0296\n",
            "Epoch 6/100\n",
            "7/7 [==============================] - 0s 10ms/step - loss: 0.0110 - val_loss: 0.0204\n",
            "Epoch 7/100\n",
            "7/7 [==============================] - 0s 11ms/step - loss: 0.0107 - val_loss: 0.0239\n",
            "Epoch 8/100\n",
            "7/7 [==============================] - 0s 10ms/step - loss: 0.0086 - val_loss: 0.0193\n",
            "Epoch 9/100\n",
            "7/7 [==============================] - 0s 9ms/step - loss: 0.0094 - val_loss: 0.0157\n",
            "Epoch 10/100\n",
            "7/7 [==============================] - 0s 10ms/step - loss: 0.0066 - val_loss: 0.0136\n",
            "Epoch 11/100\n",
            "7/7 [==============================] - 0s 9ms/step - loss: 0.0080 - val_loss: 0.0134\n",
            "Epoch 12/100\n",
            "7/7 [==============================] - 0s 10ms/step - loss: 0.0057 - val_loss: 0.0098\n",
            "Epoch 13/100\n",
            "7/7 [==============================] - 0s 10ms/step - loss: 0.0081 - val_loss: 0.0076\n",
            "Epoch 14/100\n",
            "7/7 [==============================] - 0s 10ms/step - loss: 0.0078 - val_loss: 0.0112\n",
            "Epoch 15/100\n",
            "7/7 [==============================] - 0s 10ms/step - loss: 0.0061 - val_loss: 0.0090\n",
            "Epoch 16/100\n",
            "7/7 [==============================] - 0s 10ms/step - loss: 0.0064 - val_loss: 0.0082\n",
            "Epoch 17/100\n",
            "7/7 [==============================] - 0s 9ms/step - loss: 0.0063 - val_loss: 0.0093\n",
            "Epoch 18/100\n",
            "7/7 [==============================] - 0s 9ms/step - loss: 0.0051 - val_loss: 0.0186\n",
            "Epoch 19/100\n",
            "7/7 [==============================] - 0s 10ms/step - loss: 0.0057 - val_loss: 0.0113\n",
            "Epoch 20/100\n",
            "7/7 [==============================] - 0s 9ms/step - loss: 0.0049 - val_loss: 0.0107\n",
            "Epoch 21/100\n",
            "7/7 [==============================] - 0s 10ms/step - loss: 0.0055 - val_loss: 0.0087\n",
            "Epoch 22/100\n",
            "7/7 [==============================] - 0s 11ms/step - loss: 0.0049 - val_loss: 0.0118\n",
            "Epoch 23/100\n",
            "7/7 [==============================] - 0s 10ms/step - loss: 0.0041 - val_loss: 0.0059\n",
            "Epoch 24/100\n",
            "7/7 [==============================] - 0s 12ms/step - loss: 0.0058 - val_loss: 0.0128\n",
            "Epoch 25/100\n",
            "7/7 [==============================] - 0s 10ms/step - loss: 0.0056 - val_loss: 0.0071\n",
            "Epoch 26/100\n",
            "7/7 [==============================] - 0s 11ms/step - loss: 0.0047 - val_loss: 0.0135\n",
            "Epoch 27/100\n",
            "7/7 [==============================] - 0s 11ms/step - loss: 0.0045 - val_loss: 0.0137\n",
            "Epoch 28/100\n",
            "7/7 [==============================] - 0s 11ms/step - loss: 0.0054 - val_loss: 0.0197\n",
            "Epoch 29/100\n",
            "7/7 [==============================] - 0s 10ms/step - loss: 0.0052 - val_loss: 0.0242\n",
            "Epoch 30/100\n",
            "7/7 [==============================] - 0s 10ms/step - loss: 0.0045 - val_loss: 0.0107\n",
            "Epoch 31/100\n",
            "7/7 [==============================] - 0s 10ms/step - loss: 0.0042 - val_loss: 0.0098\n",
            "Epoch 32/100\n",
            "7/7 [==============================] - 0s 10ms/step - loss: 0.0050 - val_loss: 0.0067\n",
            "Epoch 33/100\n",
            "7/7 [==============================] - 0s 10ms/step - loss: 0.0045 - val_loss: 0.0086\n",
            "Epoch 34/100\n",
            "7/7 [==============================] - 0s 10ms/step - loss: 0.0036 - val_loss: 0.0120\n",
            "Epoch 35/100\n",
            "7/7 [==============================] - 0s 12ms/step - loss: 0.0031 - val_loss: 0.0149\n",
            "Epoch 36/100\n",
            "7/7 [==============================] - 0s 10ms/step - loss: 0.0040 - val_loss: 0.0166\n",
            "Epoch 37/100\n",
            "7/7 [==============================] - 0s 10ms/step - loss: 0.0038 - val_loss: 0.0192\n",
            "Epoch 38/100\n",
            "7/7 [==============================] - 0s 11ms/step - loss: 0.0044 - val_loss: 0.0166\n",
            "Epoch 39/100\n",
            "7/7 [==============================] - 0s 10ms/step - loss: 0.0037 - val_loss: 0.0140\n",
            "Epoch 40/100\n",
            "7/7 [==============================] - 0s 10ms/step - loss: 0.0041 - val_loss: 0.0142\n",
            "Epoch 41/100\n",
            "7/7 [==============================] - 0s 10ms/step - loss: 0.0032 - val_loss: 0.0111\n",
            "Epoch 42/100\n",
            "7/7 [==============================] - 0s 11ms/step - loss: 0.0032 - val_loss: 0.0122\n",
            "Epoch 43/100\n",
            "7/7 [==============================] - 0s 11ms/step - loss: 0.0032 - val_loss: 0.0119\n",
            "Epoch 44/100\n",
            "7/7 [==============================] - 0s 10ms/step - loss: 0.0030 - val_loss: 0.0104\n",
            "Epoch 45/100\n",
            "7/7 [==============================] - 0s 11ms/step - loss: 0.0039 - val_loss: 0.0165\n",
            "Epoch 46/100\n",
            "7/7 [==============================] - 0s 10ms/step - loss: 0.0027 - val_loss: 0.0152\n",
            "Epoch 47/100\n",
            "7/7 [==============================] - 0s 10ms/step - loss: 0.0031 - val_loss: 0.0198\n",
            "Epoch 48/100\n",
            "7/7 [==============================] - 0s 9ms/step - loss: 0.0026 - val_loss: 0.0197\n",
            "Epoch 49/100\n",
            "7/7 [==============================] - 0s 11ms/step - loss: 0.0027 - val_loss: 0.0328\n",
            "Epoch 50/100\n",
            "7/7 [==============================] - 0s 10ms/step - loss: 0.0041 - val_loss: 0.0293\n",
            "Epoch 51/100\n",
            "7/7 [==============================] - 0s 10ms/step - loss: 0.0044 - val_loss: 0.0257\n",
            "Epoch 52/100\n",
            "7/7 [==============================] - 0s 10ms/step - loss: 0.0028 - val_loss: 0.0201\n",
            "Epoch 53/100\n",
            "7/7 [==============================] - 0s 10ms/step - loss: 0.0031 - val_loss: 0.0237\n",
            "Epoch 54/100\n",
            "7/7 [==============================] - 0s 10ms/step - loss: 0.0032 - val_loss: 0.0307\n",
            "Epoch 55/100\n",
            "7/7 [==============================] - 0s 10ms/step - loss: 0.0029 - val_loss: 0.0195\n",
            "Epoch 56/100\n",
            "7/7 [==============================] - 0s 10ms/step - loss: 0.0030 - val_loss: 0.0186\n",
            "Epoch 57/100\n",
            "7/7 [==============================] - 0s 11ms/step - loss: 0.0028 - val_loss: 0.0169\n",
            "Epoch 58/100\n",
            "7/7 [==============================] - 0s 10ms/step - loss: 0.0032 - val_loss: 0.0171\n",
            "Epoch 59/100\n",
            "7/7 [==============================] - 0s 10ms/step - loss: 0.0026 - val_loss: 0.0202\n",
            "Epoch 60/100\n",
            "7/7 [==============================] - 0s 10ms/step - loss: 0.0028 - val_loss: 0.0227\n",
            "Epoch 61/100\n",
            "7/7 [==============================] - 0s 10ms/step - loss: 0.0024 - val_loss: 0.0215\n",
            "Epoch 62/100\n",
            "7/7 [==============================] - 0s 10ms/step - loss: 0.0022 - val_loss: 0.0215\n",
            "Epoch 63/100\n",
            "7/7 [==============================] - 0s 10ms/step - loss: 0.0026 - val_loss: 0.0331\n",
            "Epoch 64/100\n",
            "7/7 [==============================] - 0s 11ms/step - loss: 0.0037 - val_loss: 0.0295\n",
            "Epoch 65/100\n",
            "7/7 [==============================] - 0s 11ms/step - loss: 0.0035 - val_loss: 0.0273\n",
            "Epoch 66/100\n",
            "7/7 [==============================] - 0s 10ms/step - loss: 0.0028 - val_loss: 0.0228\n",
            "Epoch 67/100\n",
            "7/7 [==============================] - 0s 11ms/step - loss: 0.0026 - val_loss: 0.0151\n",
            "Epoch 68/100\n",
            "7/7 [==============================] - 0s 11ms/step - loss: 0.0022 - val_loss: 0.0205\n",
            "Epoch 69/100\n",
            "7/7 [==============================] - 0s 10ms/step - loss: 0.0026 - val_loss: 0.0248\n",
            "Epoch 70/100\n",
            "7/7 [==============================] - 0s 11ms/step - loss: 0.0023 - val_loss: 0.0330\n",
            "Epoch 71/100\n",
            "7/7 [==============================] - 0s 10ms/step - loss: 0.0033 - val_loss: 0.0391\n",
            "Epoch 72/100\n",
            "7/7 [==============================] - 0s 10ms/step - loss: 0.0037 - val_loss: 0.0179\n",
            "Epoch 73/100\n",
            "7/7 [==============================] - 0s 10ms/step - loss: 0.0032 - val_loss: 0.0165\n",
            "Epoch 74/100\n",
            "7/7 [==============================] - 0s 13ms/step - loss: 0.0027 - val_loss: 0.0144\n",
            "Epoch 75/100\n",
            "7/7 [==============================] - 0s 10ms/step - loss: 0.0033 - val_loss: 0.0139\n",
            "Epoch 76/100\n",
            "7/7 [==============================] - 0s 11ms/step - loss: 0.0024 - val_loss: 0.0149\n",
            "Epoch 77/100\n",
            "7/7 [==============================] - 0s 12ms/step - loss: 0.0025 - val_loss: 0.0127\n",
            "Epoch 78/100\n",
            "7/7 [==============================] - 0s 10ms/step - loss: 0.0031 - val_loss: 0.0212\n",
            "Epoch 79/100\n",
            "7/7 [==============================] - 0s 10ms/step - loss: 0.0024 - val_loss: 0.0252\n",
            "Epoch 80/100\n",
            "7/7 [==============================] - 0s 11ms/step - loss: 0.0023 - val_loss: 0.0227\n",
            "Epoch 81/100\n",
            "7/7 [==============================] - 0s 11ms/step - loss: 0.0021 - val_loss: 0.0291\n",
            "Epoch 82/100\n",
            "7/7 [==============================] - 0s 10ms/step - loss: 0.0019 - val_loss: 0.0273\n",
            "Epoch 83/100\n",
            "7/7 [==============================] - 0s 10ms/step - loss: 0.0018 - val_loss: 0.0220\n",
            "Epoch 84/100\n",
            "7/7 [==============================] - 0s 11ms/step - loss: 0.0023 - val_loss: 0.0233\n",
            "Epoch 85/100\n",
            "7/7 [==============================] - 0s 10ms/step - loss: 0.0020 - val_loss: 0.0252\n",
            "Epoch 86/100\n",
            "7/7 [==============================] - 0s 10ms/step - loss: 0.0021 - val_loss: 0.0239\n",
            "Epoch 87/100\n",
            "7/7 [==============================] - 0s 10ms/step - loss: 0.0022 - val_loss: 0.0204\n",
            "Epoch 88/100\n",
            "7/7 [==============================] - 0s 10ms/step - loss: 0.0021 - val_loss: 0.0194\n",
            "Epoch 89/100\n",
            "7/7 [==============================] - 0s 10ms/step - loss: 0.0020 - val_loss: 0.0257\n",
            "Epoch 90/100\n",
            "7/7 [==============================] - 0s 10ms/step - loss: 0.0018 - val_loss: 0.0291\n",
            "Epoch 91/100\n",
            "7/7 [==============================] - 0s 11ms/step - loss: 0.0019 - val_loss: 0.0284\n",
            "Epoch 92/100\n",
            "7/7 [==============================] - 0s 10ms/step - loss: 0.0019 - val_loss: 0.0317\n",
            "Epoch 93/100\n",
            "7/7 [==============================] - 0s 10ms/step - loss: 0.0018 - val_loss: 0.0247\n",
            "Epoch 94/100\n",
            "7/7 [==============================] - 0s 10ms/step - loss: 0.0032 - val_loss: 0.0159\n",
            "Epoch 95/100\n",
            "7/7 [==============================] - 0s 10ms/step - loss: 0.0028 - val_loss: 0.0102\n",
            "Epoch 96/100\n",
            "7/7 [==============================] - 0s 10ms/step - loss: 0.0036 - val_loss: 0.0098\n",
            "Epoch 97/100\n",
            "7/7 [==============================] - 0s 11ms/step - loss: 0.0033 - val_loss: 0.0224\n",
            "Epoch 98/100\n",
            "7/7 [==============================] - 0s 11ms/step - loss: 0.0018 - val_loss: 0.0251\n",
            "Epoch 99/100\n",
            "7/7 [==============================] - 0s 10ms/step - loss: 0.0018 - val_loss: 0.0244\n",
            "Epoch 100/100\n",
            "7/7 [==============================] - 0s 11ms/step - loss: 0.0017 - val_loss: 0.0285\n"
          ],
          "name": "stdout"
        },
        {
          "output_type": "execute_result",
          "data": {
            "text/plain": [
              "<tensorflow.python.keras.callbacks.History at 0x7ffa85467990>"
            ]
          },
          "metadata": {
            "tags": []
          },
          "execution_count": 18
        }
      ]
    },
    {
      "cell_type": "code",
      "metadata": {
        "id": "5VitEa85spXa"
      },
      "source": [
        "model1.save(filepath1)"
      ],
      "execution_count": null,
      "outputs": []
    },
    {
      "cell_type": "code",
      "metadata": {
        "colab": {
          "base_uri": "https://localhost:8080/"
        },
        "id": "IPYy8QESsrjJ",
        "outputId": "42c5651c-35eb-41b0-a222-5411186b2217"
      },
      "source": [
        "#LSTM  model\n",
        "model2=Sequential()\n",
        "model2.add(LSTM(50,return_sequences=True,input_shape=(100,1)))\n",
        "model2.add(LSTM(50,return_sequences=True))\n",
        "model2.add(LSTM(50))\n",
        "model2.add(Dense(1))\n",
        "model2.compile(loss='mean_squared_error', optimizer='adam')\n",
        "model2.fit(X_train,y_train,validation_data=(X_test,ytest),epochs=100,batch_size=32,verbose=1)"
      ],
      "execution_count": null,
      "outputs": [
        {
          "output_type": "stream",
          "text": [
            "Epoch 1/100\n",
            "7/7 [==============================] - 6s 309ms/step - loss: 0.2421 - val_loss: 0.1102\n",
            "Epoch 2/100\n",
            "7/7 [==============================] - 1s 140ms/step - loss: 0.0580 - val_loss: 0.0065\n",
            "Epoch 3/100\n",
            "7/7 [==============================] - 1s 132ms/step - loss: 0.0337 - val_loss: 0.0210\n",
            "Epoch 4/100\n",
            "7/7 [==============================] - 1s 136ms/step - loss: 0.0178 - val_loss: 0.0354\n",
            "Epoch 5/100\n",
            "7/7 [==============================] - 1s 130ms/step - loss: 0.0160 - val_loss: 0.0134\n",
            "Epoch 6/100\n",
            "7/7 [==============================] - 1s 127ms/step - loss: 0.0154 - val_loss: 0.0258\n",
            "Epoch 7/100\n",
            "7/7 [==============================] - 1s 126ms/step - loss: 0.0156 - val_loss: 0.0230\n",
            "Epoch 8/100\n",
            "7/7 [==============================] - 1s 132ms/step - loss: 0.0158 - val_loss: 0.0171\n",
            "Epoch 9/100\n",
            "7/7 [==============================] - 1s 131ms/step - loss: 0.0130 - val_loss: 0.0248\n",
            "Epoch 10/100\n",
            "7/7 [==============================] - 1s 124ms/step - loss: 0.0151 - val_loss: 0.0181\n",
            "Epoch 11/100\n",
            "7/7 [==============================] - 1s 123ms/step - loss: 0.0150 - val_loss: 0.0184\n",
            "Epoch 12/100\n",
            "7/7 [==============================] - 1s 130ms/step - loss: 0.0121 - val_loss: 0.0189\n",
            "Epoch 13/100\n",
            "7/7 [==============================] - 1s 130ms/step - loss: 0.0132 - val_loss: 0.0158\n",
            "Epoch 14/100\n",
            "7/7 [==============================] - 1s 127ms/step - loss: 0.0125 - val_loss: 0.0137\n",
            "Epoch 15/100\n",
            "7/7 [==============================] - 1s 129ms/step - loss: 0.0143 - val_loss: 0.0125\n",
            "Epoch 16/100\n",
            "7/7 [==============================] - 1s 127ms/step - loss: 0.0116 - val_loss: 0.0083\n",
            "Epoch 17/100\n",
            "7/7 [==============================] - 1s 126ms/step - loss: 0.0125 - val_loss: 0.0182\n",
            "Epoch 18/100\n",
            "7/7 [==============================] - 1s 132ms/step - loss: 0.0125 - val_loss: 0.0251\n",
            "Epoch 19/100\n",
            "7/7 [==============================] - 1s 128ms/step - loss: 0.0163 - val_loss: 0.0067\n",
            "Epoch 20/100\n",
            "7/7 [==============================] - 1s 129ms/step - loss: 0.0139 - val_loss: 0.0149\n",
            "Epoch 21/100\n",
            "7/7 [==============================] - 1s 129ms/step - loss: 0.0107 - val_loss: 0.0105\n",
            "Epoch 22/100\n",
            "7/7 [==============================] - 1s 125ms/step - loss: 0.0121 - val_loss: 0.0108\n",
            "Epoch 23/100\n",
            "7/7 [==============================] - 1s 127ms/step - loss: 0.0102 - val_loss: 0.0118\n",
            "Epoch 24/100\n",
            "7/7 [==============================] - 1s 133ms/step - loss: 0.0097 - val_loss: 0.0048\n",
            "Epoch 25/100\n",
            "7/7 [==============================] - 1s 130ms/step - loss: 0.0137 - val_loss: 0.0134\n",
            "Epoch 26/100\n",
            "7/7 [==============================] - 1s 146ms/step - loss: 0.0108 - val_loss: 0.0058\n",
            "Epoch 27/100\n",
            "7/7 [==============================] - 1s 127ms/step - loss: 0.0118 - val_loss: 0.0082\n",
            "Epoch 28/100\n",
            "7/7 [==============================] - 1s 133ms/step - loss: 0.0105 - val_loss: 0.0121\n",
            "Epoch 29/100\n",
            "7/7 [==============================] - 1s 126ms/step - loss: 0.0121 - val_loss: 0.0073\n",
            "Epoch 30/100\n",
            "7/7 [==============================] - 1s 132ms/step - loss: 0.0108 - val_loss: 0.0112\n",
            "Epoch 31/100\n",
            "7/7 [==============================] - 1s 133ms/step - loss: 0.0131 - val_loss: 0.0085\n",
            "Epoch 32/100\n",
            "7/7 [==============================] - 1s 135ms/step - loss: 0.0107 - val_loss: 0.0037\n",
            "Epoch 33/100\n",
            "7/7 [==============================] - 1s 131ms/step - loss: 0.0102 - val_loss: 0.0158\n",
            "Epoch 34/100\n",
            "7/7 [==============================] - 1s 138ms/step - loss: 0.0123 - val_loss: 0.0060\n",
            "Epoch 35/100\n",
            "7/7 [==============================] - 1s 131ms/step - loss: 0.0102 - val_loss: 0.0077\n",
            "Epoch 36/100\n",
            "7/7 [==============================] - 1s 137ms/step - loss: 0.0087 - val_loss: 0.0078\n",
            "Epoch 37/100\n",
            "7/7 [==============================] - 1s 147ms/step - loss: 0.0122 - val_loss: 0.0060\n",
            "Epoch 38/100\n",
            "7/7 [==============================] - 1s 137ms/step - loss: 0.0099 - val_loss: 0.0085\n",
            "Epoch 39/100\n",
            "7/7 [==============================] - 1s 146ms/step - loss: 0.0093 - val_loss: 0.0049\n",
            "Epoch 40/100\n",
            "7/7 [==============================] - 1s 132ms/step - loss: 0.0103 - val_loss: 0.0047\n",
            "Epoch 41/100\n",
            "7/7 [==============================] - 1s 137ms/step - loss: 0.0103 - val_loss: 0.0045\n",
            "Epoch 42/100\n",
            "7/7 [==============================] - 1s 130ms/step - loss: 0.0099 - val_loss: 0.0055\n",
            "Epoch 43/100\n",
            "7/7 [==============================] - 1s 132ms/step - loss: 0.0087 - val_loss: 0.0099\n",
            "Epoch 44/100\n",
            "7/7 [==============================] - 1s 147ms/step - loss: 0.0077 - val_loss: 0.0075\n",
            "Epoch 45/100\n",
            "7/7 [==============================] - 1s 129ms/step - loss: 0.0090 - val_loss: 0.0044\n",
            "Epoch 46/100\n",
            "7/7 [==============================] - 1s 131ms/step - loss: 0.0099 - val_loss: 0.0041\n",
            "Epoch 47/100\n",
            "7/7 [==============================] - 1s 158ms/step - loss: 0.0107 - val_loss: 0.0079\n",
            "Epoch 48/100\n",
            "7/7 [==============================] - 1s 147ms/step - loss: 0.0080 - val_loss: 0.0073\n",
            "Epoch 49/100\n",
            "7/7 [==============================] - 1s 132ms/step - loss: 0.0086 - val_loss: 0.0049\n",
            "Epoch 50/100\n",
            "7/7 [==============================] - 1s 128ms/step - loss: 0.0099 - val_loss: 0.0088\n",
            "Epoch 51/100\n",
            "7/7 [==============================] - 1s 129ms/step - loss: 0.0101 - val_loss: 0.0069\n",
            "Epoch 52/100\n",
            "7/7 [==============================] - 1s 139ms/step - loss: 0.0088 - val_loss: 0.0103\n",
            "Epoch 53/100\n",
            "7/7 [==============================] - 1s 136ms/step - loss: 0.0085 - val_loss: 0.0035\n",
            "Epoch 54/100\n",
            "7/7 [==============================] - 1s 130ms/step - loss: 0.0101 - val_loss: 0.0028\n",
            "Epoch 55/100\n",
            "7/7 [==============================] - 1s 133ms/step - loss: 0.0097 - val_loss: 0.0087\n",
            "Epoch 56/100\n",
            "7/7 [==============================] - 1s 129ms/step - loss: 0.0071 - val_loss: 0.0066\n",
            "Epoch 57/100\n",
            "7/7 [==============================] - 1s 133ms/step - loss: 0.0089 - val_loss: 0.0072\n",
            "Epoch 58/100\n",
            "7/7 [==============================] - 1s 131ms/step - loss: 0.0093 - val_loss: 0.0046\n",
            "Epoch 59/100\n",
            "7/7 [==============================] - 1s 128ms/step - loss: 0.0112 - val_loss: 0.0062\n",
            "Epoch 60/100\n",
            "7/7 [==============================] - 1s 126ms/step - loss: 0.0092 - val_loss: 0.0142\n",
            "Epoch 61/100\n",
            "7/7 [==============================] - 1s 130ms/step - loss: 0.0084 - val_loss: 0.0042\n",
            "Epoch 62/100\n",
            "7/7 [==============================] - 1s 132ms/step - loss: 0.0089 - val_loss: 0.0069\n",
            "Epoch 63/100\n",
            "7/7 [==============================] - 1s 131ms/step - loss: 0.0094 - val_loss: 0.0058\n",
            "Epoch 64/100\n",
            "7/7 [==============================] - 1s 130ms/step - loss: 0.0096 - val_loss: 0.0037\n",
            "Epoch 65/100\n",
            "7/7 [==============================] - 1s 132ms/step - loss: 0.0085 - val_loss: 0.0087\n",
            "Epoch 66/100\n",
            "7/7 [==============================] - 1s 129ms/step - loss: 0.0078 - val_loss: 0.0054\n",
            "Epoch 67/100\n",
            "7/7 [==============================] - 1s 130ms/step - loss: 0.0094 - val_loss: 0.0052\n",
            "Epoch 68/100\n",
            "7/7 [==============================] - 1s 129ms/step - loss: 0.0076 - val_loss: 0.0038\n",
            "Epoch 69/100\n",
            "7/7 [==============================] - 1s 136ms/step - loss: 0.0093 - val_loss: 0.0066\n",
            "Epoch 70/100\n",
            "7/7 [==============================] - 1s 128ms/step - loss: 0.0087 - val_loss: 0.0039\n",
            "Epoch 71/100\n",
            "7/7 [==============================] - 1s 132ms/step - loss: 0.0092 - val_loss: 0.0057\n",
            "Epoch 72/100\n",
            "7/7 [==============================] - 1s 130ms/step - loss: 0.0085 - val_loss: 0.0161\n",
            "Epoch 73/100\n",
            "7/7 [==============================] - 1s 129ms/step - loss: 0.0086 - val_loss: 0.0042\n",
            "Epoch 74/100\n",
            "7/7 [==============================] - 1s 131ms/step - loss: 0.0065 - val_loss: 0.0072\n",
            "Epoch 75/100\n",
            "7/7 [==============================] - 1s 129ms/step - loss: 0.0086 - val_loss: 0.0105\n",
            "Epoch 76/100\n",
            "7/7 [==============================] - 1s 145ms/step - loss: 0.0071 - val_loss: 0.0023\n",
            "Epoch 77/100\n",
            "7/7 [==============================] - 1s 154ms/step - loss: 0.0083 - val_loss: 0.0106\n",
            "Epoch 78/100\n",
            "7/7 [==============================] - 1s 133ms/step - loss: 0.0087 - val_loss: 0.0097\n",
            "Epoch 79/100\n",
            "7/7 [==============================] - 1s 134ms/step - loss: 0.0096 - val_loss: 0.0051\n",
            "Epoch 80/100\n",
            "7/7 [==============================] - 1s 140ms/step - loss: 0.0095 - val_loss: 0.0043\n",
            "Epoch 81/100\n",
            "7/7 [==============================] - 1s 139ms/step - loss: 0.0059 - val_loss: 0.0038\n",
            "Epoch 82/100\n",
            "7/7 [==============================] - 1s 130ms/step - loss: 0.0084 - val_loss: 0.0055\n",
            "Epoch 83/100\n",
            "7/7 [==============================] - 1s 130ms/step - loss: 0.0080 - val_loss: 0.0058\n",
            "Epoch 84/100\n",
            "7/7 [==============================] - 1s 131ms/step - loss: 0.0078 - val_loss: 0.0042\n",
            "Epoch 85/100\n",
            "7/7 [==============================] - 1s 130ms/step - loss: 0.0063 - val_loss: 0.0040\n",
            "Epoch 86/100\n",
            "7/7 [==============================] - 1s 133ms/step - loss: 0.0062 - val_loss: 0.0067\n",
            "Epoch 87/100\n",
            "7/7 [==============================] - 1s 130ms/step - loss: 0.0079 - val_loss: 0.0057\n",
            "Epoch 88/100\n",
            "7/7 [==============================] - 1s 129ms/step - loss: 0.0092 - val_loss: 0.0060\n",
            "Epoch 89/100\n",
            "7/7 [==============================] - 1s 131ms/step - loss: 0.0082 - val_loss: 0.0071\n",
            "Epoch 90/100\n",
            "7/7 [==============================] - 1s 134ms/step - loss: 0.0081 - val_loss: 0.0043\n",
            "Epoch 91/100\n",
            "7/7 [==============================] - 1s 139ms/step - loss: 0.0083 - val_loss: 0.0059\n",
            "Epoch 92/100\n",
            "7/7 [==============================] - 1s 133ms/step - loss: 0.0077 - val_loss: 0.0093\n",
            "Epoch 93/100\n",
            "7/7 [==============================] - 1s 130ms/step - loss: 0.0054 - val_loss: 0.0028\n",
            "Epoch 94/100\n",
            "7/7 [==============================] - 1s 130ms/step - loss: 0.0076 - val_loss: 0.0046\n",
            "Epoch 95/100\n",
            "7/7 [==============================] - 1s 131ms/step - loss: 0.0072 - val_loss: 0.0114\n",
            "Epoch 96/100\n",
            "7/7 [==============================] - 1s 132ms/step - loss: 0.0070 - val_loss: 0.0026\n",
            "Epoch 97/100\n",
            "7/7 [==============================] - 1s 135ms/step - loss: 0.0077 - val_loss: 0.0073\n",
            "Epoch 98/100\n",
            "7/7 [==============================] - 1s 144ms/step - loss: 0.0075 - val_loss: 0.0052\n",
            "Epoch 99/100\n",
            "7/7 [==============================] - 1s 132ms/step - loss: 0.0063 - val_loss: 0.0027\n",
            "Epoch 100/100\n",
            "7/7 [==============================] - 1s 131ms/step - loss: 0.0072 - val_loss: 0.0043\n"
          ],
          "name": "stdout"
        },
        {
          "output_type": "execute_result",
          "data": {
            "text/plain": [
              "<tensorflow.python.keras.callbacks.History at 0x7ffa81946a50>"
            ]
          },
          "metadata": {
            "tags": []
          },
          "execution_count": 20
        }
      ]
    },
    {
      "cell_type": "code",
      "metadata": {
        "id": "231m4f9NswSi"
      },
      "source": [
        "model2.save(filepath2)"
      ],
      "execution_count": null,
      "outputs": []
    },
    {
      "cell_type": "code",
      "metadata": {
        "colab": {
          "base_uri": "https://localhost:8080/"
        },
        "id": "Jn4D1A4tsyKp",
        "outputId": "e3c504c6-b582-4f99-895c-127530aa3443"
      },
      "source": [
        "#BILSTM model\n",
        "model3=Sequential()\n",
        "model3.add(Bidirectional(LSTM(50,return_sequences=True,input_shape=(100,1))))\n",
        "model3.add(Bidirectional(LSTM(50,return_sequences=True)))\n",
        "model3.add(Bidirectional(LSTM(50)))\n",
        "model3.add(Dense(1))\n",
        "model3.compile(loss='mean_squared_error', optimizer='adam')\n",
        "model3.fit(X_train,y_train,validation_data=(X_test,ytest),epochs=100,batch_size=32,verbose=1)"
      ],
      "execution_count": null,
      "outputs": [
        {
          "output_type": "stream",
          "text": [
            "Epoch 1/100\n",
            "7/7 [==============================] - 13s 551ms/step - loss: 0.1837 - val_loss: 0.0931\n",
            "Epoch 2/100\n",
            "7/7 [==============================] - 2s 228ms/step - loss: 0.0374 - val_loss: 0.0078\n",
            "Epoch 3/100\n",
            "7/7 [==============================] - 2s 236ms/step - loss: 0.0248 - val_loss: 0.0631\n",
            "Epoch 4/100\n",
            "7/7 [==============================] - 2s 225ms/step - loss: 0.0228 - val_loss: 0.0179\n",
            "Epoch 5/100\n",
            "7/7 [==============================] - 2s 258ms/step - loss: 0.0171 - val_loss: 0.0126\n",
            "Epoch 6/100\n",
            "7/7 [==============================] - 2s 215ms/step - loss: 0.0148 - val_loss: 0.0219\n",
            "Epoch 7/100\n",
            "7/7 [==============================] - 2s 217ms/step - loss: 0.0123 - val_loss: 0.0085\n",
            "Epoch 8/100\n",
            "7/7 [==============================] - 1s 211ms/step - loss: 0.0122 - val_loss: 0.0100\n",
            "Epoch 9/100\n",
            "7/7 [==============================] - 1s 213ms/step - loss: 0.0119 - val_loss: 0.0074\n",
            "Epoch 10/100\n",
            "7/7 [==============================] - 1s 212ms/step - loss: 0.0092 - val_loss: 0.0055\n",
            "Epoch 11/100\n",
            "7/7 [==============================] - 2s 215ms/step - loss: 0.0116 - val_loss: 0.0042\n",
            "Epoch 12/100\n",
            "7/7 [==============================] - 2s 220ms/step - loss: 0.0085 - val_loss: 0.0068\n",
            "Epoch 13/100\n",
            "7/7 [==============================] - 2s 239ms/step - loss: 0.0105 - val_loss: 0.0038\n",
            "Epoch 14/100\n",
            "7/7 [==============================] - 2s 240ms/step - loss: 0.0119 - val_loss: 0.0077\n",
            "Epoch 15/100\n",
            "7/7 [==============================] - 2s 241ms/step - loss: 0.0089 - val_loss: 0.0029\n",
            "Epoch 16/100\n",
            "7/7 [==============================] - 2s 219ms/step - loss: 0.0089 - val_loss: 0.0037\n",
            "Epoch 17/100\n",
            "7/7 [==============================] - 2s 217ms/step - loss: 0.0095 - val_loss: 0.0020\n",
            "Epoch 18/100\n",
            "7/7 [==============================] - 2s 244ms/step - loss: 0.0083 - val_loss: 0.0031\n",
            "Epoch 19/100\n",
            "7/7 [==============================] - 2s 236ms/step - loss: 0.0094 - val_loss: 0.0085\n",
            "Epoch 20/100\n",
            "7/7 [==============================] - 2s 220ms/step - loss: 0.0105 - val_loss: 0.0032\n",
            "Epoch 21/100\n",
            "7/7 [==============================] - 1s 214ms/step - loss: 0.0088 - val_loss: 0.0027\n",
            "Epoch 22/100\n",
            "7/7 [==============================] - 2s 236ms/step - loss: 0.0076 - val_loss: 0.0052\n",
            "Epoch 23/100\n",
            "7/7 [==============================] - 2s 219ms/step - loss: 0.0064 - val_loss: 0.0077\n",
            "Epoch 24/100\n",
            "7/7 [==============================] - 2s 234ms/step - loss: 0.0091 - val_loss: 0.0048\n",
            "Epoch 25/100\n",
            "7/7 [==============================] - 2s 222ms/step - loss: 0.0065 - val_loss: 0.0086\n",
            "Epoch 26/100\n",
            "7/7 [==============================] - 2s 232ms/step - loss: 0.0059 - val_loss: 0.0087\n",
            "Epoch 27/100\n",
            "7/7 [==============================] - 2s 247ms/step - loss: 0.0070 - val_loss: 0.0067\n",
            "Epoch 28/100\n",
            "7/7 [==============================] - 2s 219ms/step - loss: 0.0076 - val_loss: 0.0053\n",
            "Epoch 29/100\n",
            "7/7 [==============================] - 1s 213ms/step - loss: 0.0072 - val_loss: 0.0023\n",
            "Epoch 30/100\n",
            "7/7 [==============================] - 1s 214ms/step - loss: 0.0077 - val_loss: 0.0067\n",
            "Epoch 31/100\n",
            "7/7 [==============================] - 2s 231ms/step - loss: 0.0064 - val_loss: 0.0059\n",
            "Epoch 32/100\n",
            "7/7 [==============================] - 2s 243ms/step - loss: 0.0061 - val_loss: 0.0102\n",
            "Epoch 33/100\n",
            "7/7 [==============================] - 2s 243ms/step - loss: 0.0052 - val_loss: 0.0089\n",
            "Epoch 34/100\n",
            "7/7 [==============================] - 2s 238ms/step - loss: 0.0073 - val_loss: 0.0132\n",
            "Epoch 35/100\n",
            "7/7 [==============================] - 2s 226ms/step - loss: 0.0063 - val_loss: 0.0154\n",
            "Epoch 36/100\n",
            "7/7 [==============================] - 2s 214ms/step - loss: 0.0057 - val_loss: 0.0194\n",
            "Epoch 37/100\n",
            "7/7 [==============================] - 2s 221ms/step - loss: 0.0088 - val_loss: 0.0179\n",
            "Epoch 38/100\n",
            "7/7 [==============================] - 1s 213ms/step - loss: 0.0082 - val_loss: 0.0067\n",
            "Epoch 39/100\n",
            "7/7 [==============================] - 1s 213ms/step - loss: 0.0076 - val_loss: 0.0038\n",
            "Epoch 40/100\n",
            "7/7 [==============================] - 2s 220ms/step - loss: 0.0060 - val_loss: 0.0094\n",
            "Epoch 41/100\n",
            "7/7 [==============================] - 2s 228ms/step - loss: 0.0079 - val_loss: 0.0067\n",
            "Epoch 42/100\n",
            "7/7 [==============================] - 2s 216ms/step - loss: 0.0067 - val_loss: 0.0086\n",
            "Epoch 43/100\n",
            "7/7 [==============================] - 2s 262ms/step - loss: 0.0067 - val_loss: 0.0076\n",
            "Epoch 44/100\n",
            "7/7 [==============================] - 2s 212ms/step - loss: 0.0064 - val_loss: 0.0098\n",
            "Epoch 45/100\n",
            "7/7 [==============================] - 2s 243ms/step - loss: 0.0077 - val_loss: 0.0053\n",
            "Epoch 46/100\n",
            "7/7 [==============================] - 2s 238ms/step - loss: 0.0055 - val_loss: 0.0083\n",
            "Epoch 47/100\n",
            "7/7 [==============================] - 2s 230ms/step - loss: 0.0068 - val_loss: 0.0169\n",
            "Epoch 48/100\n",
            "7/7 [==============================] - 2s 229ms/step - loss: 0.0071 - val_loss: 0.0152\n",
            "Epoch 49/100\n",
            "7/7 [==============================] - 2s 221ms/step - loss: 0.0061 - val_loss: 0.0087\n",
            "Epoch 50/100\n",
            "7/7 [==============================] - 2s 227ms/step - loss: 0.0078 - val_loss: 0.0133\n",
            "Epoch 51/100\n",
            "7/7 [==============================] - 2s 223ms/step - loss: 0.0060 - val_loss: 0.0140\n",
            "Epoch 52/100\n",
            "7/7 [==============================] - 2s 226ms/step - loss: 0.0073 - val_loss: 0.0120\n",
            "Epoch 53/100\n",
            "7/7 [==============================] - 2s 222ms/step - loss: 0.0064 - val_loss: 0.0056\n",
            "Epoch 54/100\n",
            "7/7 [==============================] - 2s 220ms/step - loss: 0.0084 - val_loss: 0.0090\n",
            "Epoch 55/100\n",
            "7/7 [==============================] - 2s 235ms/step - loss: 0.0057 - val_loss: 0.0133\n",
            "Epoch 56/100\n",
            "7/7 [==============================] - 2s 251ms/step - loss: 0.0070 - val_loss: 0.0150\n",
            "Epoch 57/100\n",
            "7/7 [==============================] - 2s 217ms/step - loss: 0.0062 - val_loss: 0.0099\n",
            "Epoch 58/100\n",
            "7/7 [==============================] - 1s 212ms/step - loss: 0.0047 - val_loss: 0.0091\n",
            "Epoch 59/100\n",
            "7/7 [==============================] - 2s 219ms/step - loss: 0.0071 - val_loss: 0.0140\n",
            "Epoch 60/100\n",
            "7/7 [==============================] - 2s 245ms/step - loss: 0.0058 - val_loss: 0.0207\n",
            "Epoch 61/100\n",
            "7/7 [==============================] - 2s 216ms/step - loss: 0.0080 - val_loss: 0.0094\n",
            "Epoch 62/100\n",
            "7/7 [==============================] - 2s 252ms/step - loss: 0.0063 - val_loss: 0.0071\n",
            "Epoch 63/100\n",
            "7/7 [==============================] - 2s 261ms/step - loss: 0.0067 - val_loss: 0.0126\n",
            "Epoch 64/100\n",
            "7/7 [==============================] - 2s 258ms/step - loss: 0.0086 - val_loss: 0.0134\n",
            "Epoch 65/100\n",
            "7/7 [==============================] - 2s 237ms/step - loss: 0.0045 - val_loss: 0.0119\n",
            "Epoch 66/100\n",
            "7/7 [==============================] - 2s 254ms/step - loss: 0.0046 - val_loss: 0.0124\n",
            "Epoch 67/100\n",
            "7/7 [==============================] - 2s 229ms/step - loss: 0.0050 - val_loss: 0.0136\n",
            "Epoch 68/100\n",
            "7/7 [==============================] - 2s 217ms/step - loss: 0.0067 - val_loss: 0.0200\n",
            "Epoch 69/100\n",
            "7/7 [==============================] - 2s 239ms/step - loss: 0.0046 - val_loss: 0.0111\n",
            "Epoch 70/100\n",
            "7/7 [==============================] - 2s 238ms/step - loss: 0.0050 - val_loss: 0.0128\n",
            "Epoch 71/100\n",
            "7/7 [==============================] - 2s 219ms/step - loss: 0.0048 - val_loss: 0.0120\n",
            "Epoch 72/100\n",
            "7/7 [==============================] - 1s 215ms/step - loss: 0.0048 - val_loss: 0.0132\n",
            "Epoch 73/100\n",
            "7/7 [==============================] - 2s 260ms/step - loss: 0.0042 - val_loss: 0.0148\n",
            "Epoch 74/100\n",
            "7/7 [==============================] - 2s 245ms/step - loss: 0.0048 - val_loss: 0.0144\n",
            "Epoch 75/100\n",
            "7/7 [==============================] - 2s 224ms/step - loss: 0.0055 - val_loss: 0.0148\n",
            "Epoch 76/100\n",
            "7/7 [==============================] - 2s 230ms/step - loss: 0.0045 - val_loss: 0.0130\n",
            "Epoch 77/100\n",
            "7/7 [==============================] - 2s 250ms/step - loss: 0.0055 - val_loss: 0.0124\n",
            "Epoch 78/100\n",
            "7/7 [==============================] - 2s 235ms/step - loss: 0.0054 - val_loss: 0.0180\n",
            "Epoch 79/100\n",
            "7/7 [==============================] - 2s 247ms/step - loss: 0.0061 - val_loss: 0.0147\n",
            "Epoch 80/100\n",
            "7/7 [==============================] - 2s 226ms/step - loss: 0.0046 - val_loss: 0.0140\n",
            "Epoch 81/100\n",
            "7/7 [==============================] - 2s 252ms/step - loss: 0.0057 - val_loss: 0.0114\n",
            "Epoch 82/100\n",
            "7/7 [==============================] - 2s 259ms/step - loss: 0.0047 - val_loss: 0.0104\n",
            "Epoch 83/100\n",
            "7/7 [==============================] - 2s 214ms/step - loss: 0.0058 - val_loss: 0.0109\n",
            "Epoch 84/100\n",
            "7/7 [==============================] - 2s 222ms/step - loss: 0.0068 - val_loss: 0.0167\n",
            "Epoch 85/100\n",
            "7/7 [==============================] - 2s 222ms/step - loss: 0.0071 - val_loss: 0.0178\n",
            "Epoch 86/100\n",
            "7/7 [==============================] - 2s 225ms/step - loss: 0.0063 - val_loss: 0.0130\n",
            "Epoch 87/100\n",
            "7/7 [==============================] - 2s 216ms/step - loss: 0.0048 - val_loss: 0.0127\n",
            "Epoch 88/100\n",
            "7/7 [==============================] - 2s 223ms/step - loss: 0.0048 - val_loss: 0.0100\n",
            "Epoch 89/100\n",
            "7/7 [==============================] - 2s 256ms/step - loss: 0.0047 - val_loss: 0.0098\n",
            "Epoch 90/100\n",
            "7/7 [==============================] - 2s 218ms/step - loss: 0.0052 - val_loss: 0.0133\n",
            "Epoch 91/100\n",
            "7/7 [==============================] - 2s 234ms/step - loss: 0.0047 - val_loss: 0.0082\n",
            "Epoch 92/100\n",
            "7/7 [==============================] - 2s 216ms/step - loss: 0.0055 - val_loss: 0.0067\n",
            "Epoch 93/100\n",
            "7/7 [==============================] - 2s 249ms/step - loss: 0.0053 - val_loss: 0.0101\n",
            "Epoch 94/100\n",
            "7/7 [==============================] - 2s 218ms/step - loss: 0.0044 - val_loss: 0.0065\n",
            "Epoch 95/100\n",
            "7/7 [==============================] - 2s 241ms/step - loss: 0.0048 - val_loss: 0.0109\n",
            "Epoch 96/100\n",
            "7/7 [==============================] - 2s 243ms/step - loss: 0.0057 - val_loss: 0.0104\n",
            "Epoch 97/100\n",
            "7/7 [==============================] - 2s 217ms/step - loss: 0.0045 - val_loss: 0.0085\n",
            "Epoch 98/100\n",
            "7/7 [==============================] - 2s 221ms/step - loss: 0.0043 - val_loss: 0.0108\n",
            "Epoch 99/100\n",
            "7/7 [==============================] - 2s 245ms/step - loss: 0.0041 - val_loss: 0.0108\n",
            "Epoch 100/100\n",
            "7/7 [==============================] - 2s 218ms/step - loss: 0.0039 - val_loss: 0.0102\n"
          ],
          "name": "stdout"
        },
        {
          "output_type": "execute_result",
          "data": {
            "text/plain": [
              "<tensorflow.python.keras.callbacks.History at 0x7ffa7fcec510>"
            ]
          },
          "metadata": {
            "tags": []
          },
          "execution_count": 22
        }
      ]
    },
    {
      "cell_type": "code",
      "metadata": {
        "id": "-rniI6hsszDB"
      },
      "source": [
        "model3.save(filepath3)"
      ],
      "execution_count": null,
      "outputs": []
    },
    {
      "cell_type": "code",
      "metadata": {
        "id": "wXaIZ2y5s0uo"
      },
      "source": [
        "from keras.models import load_model"
      ],
      "execution_count": null,
      "outputs": []
    },
    {
      "cell_type": "code",
      "metadata": {
        "id": "ePT4vJpGs2wZ"
      },
      "source": [
        "# create list of loaded models use  load_model() \n",
        "all_models = list()\n",
        "for i in range(3):\n",
        "  filename = '/content/drive/MyDrive/StockPriceEnsembleDL/modelsAbba/model'+str(i+1)+'.h5'\n",
        "  model = load_model(filename)\n",
        "  all_models.append(model)"
      ],
      "execution_count": null,
      "outputs": []
    },
    {
      "cell_type": "code",
      "metadata": {
        "colab": {
          "base_uri": "https://localhost:8080/"
        },
        "id": "d0S0rtSxs3z7",
        "outputId": "19d96c07-38ca-4cd2-b44b-4e172643382e"
      },
      "source": [
        "print(len(all_models))"
      ],
      "execution_count": null,
      "outputs": [
        {
          "output_type": "stream",
          "text": [
            "3\n"
          ],
          "name": "stdout"
        }
      ]
    },
    {
      "cell_type": "code",
      "metadata": {
        "id": "u-vFbeM8s4xw"
      },
      "source": [
        "# perform test prediction with per models \n",
        "#model1\n",
        "f1 = '/content/drive/MyDrive/StockPriceEnsembleDL/modelsUttarabank/model1.h5'\n",
        "model = load_model(f1)\n"
      ],
      "execution_count": null,
      "outputs": []
    },
    {
      "cell_type": "code",
      "metadata": {
        "colab": {
          "base_uri": "https://localhost:8080/"
        },
        "id": "KAX2wkaRs6SU",
        "outputId": "193f6d2b-0e15-41de-dbe9-bd9603354354"
      },
      "source": [
        "\n",
        "test_preds = model.predict(X_test)\n",
        "print(test_preds.shape)\n",
        "print(type(test_preds))"
      ],
      "execution_count": null,
      "outputs": [
        {
          "output_type": "stream",
          "text": [
            "(31, 1)\n",
            "<class 'numpy.ndarray'>\n"
          ],
          "name": "stdout"
        }
      ]
    },
    {
      "cell_type": "code",
      "metadata": {
        "id": "qfXep6ygs7J4"
      },
      "source": [
        "test_preds = np.reshape(test_preds,(1, test_preds.size))\n",
        "test_predict=scaler.inverse_transform(test_preds)\n",
        "X = np.reshape(ytest,(1, ytest.size))\n",
        "Y_test =scaler.inverse_transform(X)"
      ],
      "execution_count": null,
      "outputs": []
    },
    {
      "cell_type": "code",
      "metadata": {
        "colab": {
          "base_uri": "https://localhost:8080/"
        },
        "id": "O5Slc9gIs84D",
        "outputId": "26fc352d-48f2-4f2e-d230-2028e4e59ca4"
      },
      "source": [
        "\n",
        "#Y_test = Y_test.transpose()\n",
        "RMSE = math.sqrt(mean_squared_error(Y_test,test_preds))\n",
        "RMSE"
      ],
      "execution_count": null,
      "outputs": [
        {
          "output_type": "execute_result",
          "data": {
            "text/plain": [
              "4.4802240241502345"
            ]
          },
          "metadata": {
            "tags": []
          },
          "execution_count": 30
        }
      ]
    },
    {
      "cell_type": "code",
      "metadata": {
        "id": "NPx227u0s91q"
      },
      "source": [
        "\n",
        "# stacked generalization with linear meta model on blobs dataset\n",
        "from sklearn.datasets import make_blobs\n",
        "from sklearn.metrics import accuracy_score\n",
        "from sklearn.linear_model import LinearRegression\n",
        "from keras.models import load_model\n",
        "from keras.utils import to_categorical\n",
        "from numpy import dstack"
      ],
      "execution_count": null,
      "outputs": []
    },
    {
      "cell_type": "code",
      "metadata": {
        "id": "FQdbN3_hs_fK"
      },
      "source": [
        "def DataPrep(datax):\n",
        "  test_preds = np.reshape(datax,(1, datax.size))\n",
        "  test_predict=scaler.inverse_transform(test_preds)\n",
        "  return datax\n",
        "\n"
      ],
      "execution_count": null,
      "outputs": []
    },
    {
      "cell_type": "code",
      "metadata": {
        "id": "3NXUMw95tAiQ"
      },
      "source": [
        "def stacked_dataset(allModels, inputX):\n",
        "\tstackX = None\n",
        "\tfor model in allModels:\n",
        "\t\t# make prediction\n",
        "\t\tyhat = model.predict(inputX, verbose=0)\n",
        "\t\t# stack predictions into [rows, members, probabilities]\n",
        "\t\tif stackX is None:\n",
        "\t\t\tstackX = yhat\n",
        "\t\telse:\n",
        "\t\t\tstackX = dstack((stackX, yhat))\n",
        "\t# flatten predictions to [rows, members x probabilities]\n",
        "\t\n",
        "\treturn stackX"
      ],
      "execution_count": null,
      "outputs": []
    },
    {
      "cell_type": "code",
      "metadata": {
        "id": "M8yr-4KftCHR"
      },
      "source": [
        "# fit a model based on the outputs from the ensemble members\n",
        "def fit_stacked_model(members, inputX, inputy):\n",
        "\t# create dataset using ensemble\n",
        "\tstackedX = stacked_dataset(members, inputX)\n",
        "\t# fit standalone model\n",
        "\tmodel = LinearRegression()\n",
        "\tmodel.fit(stackedX, inputy)\n",
        "\treturn model"
      ],
      "execution_count": null,
      "outputs": []
    },
    {
      "cell_type": "code",
      "metadata": {
        "id": "TfDT8vRYtDOr"
      },
      "source": [
        "\n",
        "#make prediction with stacked model\n",
        "\n",
        "def stacked_prediction(members, model, inputX):\n",
        "  #inputX = DataPrep(inputX)\n",
        "\tstackedX = stacked_dataset(members,inputX)\n",
        "\t# make a prediction\n",
        "\tyhat = model.predict(stackedX)\n",
        "\treturn yhat\n"
      ],
      "execution_count": null,
      "outputs": []
    },
    {
      "cell_type": "code",
      "metadata": {
        "id": "Wmk9OCp2tExC"
      },
      "source": [
        "\n",
        "#started from here\n",
        "for i in range(len(all_models)):\n",
        "\tmodel = all_models[i]\n",
        "\tfor layer in model.layers:\n",
        "\t\t# make not trainable\n",
        "\t\tlayer.trainable = False\n",
        "\t\t# rename to avoid 'unique layer name' issue\n",
        "\t\tlayer._name = 'ensemble_' + str(i+1) + '_' + layer.name\n"
      ],
      "execution_count": null,
      "outputs": []
    },
    {
      "cell_type": "code",
      "metadata": {
        "id": "xq0jIpoztF3Z"
      },
      "source": [
        "\n",
        "# define stacked model from multiple member input models\n",
        "def define_stacked_model(members):\n",
        "\t# update all layers in all models to not be trainable\n",
        "\tfor i in range(len(members)):\n",
        "\t\tmodel = members[i]\n",
        "\t\tfor layer in model.layers:\n",
        "\t\t\t# make not trainable\n",
        "\t\t\tlayer.trainable = False\n",
        "\t\t\t# rename to avoid 'unique layer name' issue\n",
        "\t\t\tlayer._name = 'ensemble_' + str(i+1) + '_' + layer.name\n",
        "\t# define multi-headed input\n",
        "\tensemble_visible = [model.input for model in members]\n",
        "\t# concatenate merge output from each model\n",
        "\tensemble_outputs = [model.output for model in members]\n",
        "\tmerge = concatenate(ensemble_outputs)\n",
        "\thidden = Dense(10, activation='relu')(merge)\n",
        "\toutput = Dense(3)(hidden)\n",
        "\tmodel = Model(inputs=ensemble_visible, outputs=output)\n",
        "\tmodel = Model(inputs=ensemble_visible, outputs=output)\n",
        "\t# plot graph of ensemble\n",
        "\tplot_model(model, show_shapes=True, to_file='model_graph.png')\n",
        "\t# compile\n",
        "\t# compile\n",
        "\tmodel.compile(optimizer='adam', loss='mse')\n",
        "\treturn model"
      ],
      "execution_count": null,
      "outputs": []
    },
    {
      "cell_type": "code",
      "metadata": {
        "id": "Y67M0dejtHci"
      },
      "source": [
        "\n",
        "def fit_stacked_model(model, inputX, inputy):\n",
        "\t# prepare input data\n",
        "\tX = [inputX for _ in range(len(model.input))]\n",
        "\t# encode output data\n",
        "\t#inputy_enc = to_categorical(inputy)\n",
        "\t# fit model\n",
        "\tmodel.fit(X, inputy, epochs=300, verbose=0)"
      ],
      "execution_count": null,
      "outputs": []
    },
    {
      "cell_type": "code",
      "metadata": {
        "id": "QcMmUr7otIfx"
      },
      "source": [
        "stacked_model = define_stacked_model(all_models)"
      ],
      "execution_count": null,
      "outputs": []
    },
    {
      "cell_type": "code",
      "metadata": {
        "id": "zazSjyDvtKBK"
      },
      "source": [
        "#fit stacked model on test dataset\n",
        "fit_stacked_model(stacked_model, X_test,ytest)"
      ],
      "execution_count": null,
      "outputs": []
    },
    {
      "cell_type": "code",
      "metadata": {
        "id": "m-G1QNLHtLCq"
      },
      "source": [
        "\n",
        "def predict_stacked_model(model, inputX):\n",
        "\t# prepare input data\n",
        "\tX = [inputX for _ in range(len(model.input))]\n",
        "\t# make prediction\n",
        "\treturn model.predict(X)"
      ],
      "execution_count": null,
      "outputs": []
    },
    {
      "cell_type": "code",
      "metadata": {
        "colab": {
          "base_uri": "https://localhost:8080/"
        },
        "id": "ySlvG6dhtL_y",
        "outputId": "7c9ef9c5-a936-4d83-c0ca-d95f96682d67"
      },
      "source": [
        "\n",
        "# make predictions and evaluate\n",
        "yhat = predict_stacked_model(stacked_model, X_test)\n",
        "yhat = DataPrep(yhat)\n",
        "yhat\n",
        "#Y_test = DataPrep(Y_test)\n",
        "#RMSE = math.sqrt(mean_squared_error(Y_test,yhat))\n",
        "#RMSE\n",
        "#print('Stacked Test Accuracy: %.3f' % RMSE)"
      ],
      "execution_count": null,
      "outputs": [
        {
          "output_type": "execute_result",
          "data": {
            "text/plain": [
              "array([[0.3828685 , 0.36937618, 0.34704953],\n",
              "       [0.3779865 , 0.36627066, 0.34686223],\n",
              "       [0.3702863 , 0.36119962, 0.33935145],\n",
              "       [0.3628056 , 0.3561365 , 0.33523905],\n",
              "       [0.3556438 , 0.35166287, 0.33094582],\n",
              "       [0.3495086 , 0.3477978 , 0.32854396],\n",
              "       [0.34474984, 0.34525454, 0.32657194],\n",
              "       [0.34127724, 0.344028  , 0.32400867],\n",
              "       [0.3395061 , 0.34329456, 0.3255219 ],\n",
              "       [0.33897683, 0.343091  , 0.32927382],\n",
              "       [0.33908427, 0.3434502 , 0.33275297],\n",
              "       [0.33925325, 0.34427315, 0.33319688],\n",
              "       [0.340271  , 0.34565276, 0.33650684],\n",
              "       [0.34161955, 0.34713066, 0.34073308],\n",
              "       [0.34302977, 0.34911275, 0.3440833 ],\n",
              "       [0.34507805, 0.35136145, 0.34944808],\n",
              "       [0.3498679 , 0.3560415 , 0.35915568],\n",
              "       [0.35973606, 0.36589086, 0.37172595],\n",
              "       [0.36911762, 0.37408453, 0.38012496],\n",
              "       [0.37475124, 0.3775277 , 0.38722387],\n",
              "       [0.37770507, 0.38015503, 0.39033565],\n",
              "       [0.37714678, 0.37880772, 0.39414108],\n",
              "       [0.37854344, 0.3810978 , 0.39814463],\n",
              "       [0.37938246, 0.38134682, 0.40216404],\n",
              "       [0.3795133 , 0.38179165, 0.4010257 ],\n",
              "       [0.38114548, 0.38286448, 0.40308407],\n",
              "       [0.38762116, 0.3879801 , 0.40985295],\n",
              "       [0.3954375 , 0.39357686, 0.4129519 ],\n",
              "       [0.4045936 , 0.3989575 , 0.4183074 ],\n",
              "       [0.41512766, 0.40598774, 0.42120937],\n",
              "       [0.42450762, 0.41111213, 0.42221564]], dtype=float32)"
            ]
          },
          "metadata": {
            "tags": []
          },
          "execution_count": 44
        }
      ]
    },
    {
      "cell_type": "code",
      "metadata": {
        "id": "mg6rOF_OtNap"
      },
      "source": [
        "yhat=scaler.inverse_transform(yhat)"
      ],
      "execution_count": null,
      "outputs": []
    },
    {
      "cell_type": "code",
      "metadata": {
        "id": "xu1cExjmtPwa"
      },
      "source": [
        "x, y, z = yhat.T"
      ],
      "execution_count": null,
      "outputs": []
    },
    {
      "cell_type": "code",
      "metadata": {
        "id": "Sj13HduvtQyS"
      },
      "source": [
        "avg = (x+y+z)/3"
      ],
      "execution_count": null,
      "outputs": []
    },
    {
      "cell_type": "code",
      "metadata": {
        "id": "J_Dk2OC-tR5E"
      },
      "source": [
        "avg = np.reshape(avg,(1, avg.size))\n",
        "x = np.reshape(x,(1, x.size))\n",
        "y = np.reshape(y,(1, y.size))\n",
        "z = np.reshape(z,(1, z.size))"
      ],
      "execution_count": null,
      "outputs": []
    },
    {
      "cell_type": "code",
      "metadata": {
        "colab": {
          "base_uri": "https://localhost:8080/"
        },
        "id": "MaDJcdBe78Nm",
        "outputId": "9497b5c4-95c4-4400-ab5a-7522e38a0440"
      },
      "source": [
        "RMSE = math.sqrt(mean_squared_error(Y_test,avg))\n",
        "RMSE"
      ],
      "execution_count": null,
      "outputs": [
        {
          "output_type": "execute_result",
          "data": {
            "text/plain": [
              "0.5145895225511957"
            ]
          },
          "metadata": {
            "tags": []
          },
          "execution_count": 49
        }
      ]
    },
    {
      "cell_type": "code",
      "metadata": {
        "id": "GvdvvHSs6YVP"
      },
      "source": [
        "avg = avg.T\n",
        "x = x.T\n",
        "y = y.T"
      ],
      "execution_count": null,
      "outputs": []
    },
    {
      "cell_type": "code",
      "metadata": {
        "colab": {
          "base_uri": "https://localhost:8080/"
        },
        "id": "U8aGKnuA6e2m",
        "outputId": "fe3f5d3e-54bd-4d5a-9661-511dff86fb4d"
      },
      "source": [
        "avg"
      ],
      "execution_count": null,
      "outputs": [
        {
          "output_type": "execute_result",
          "data": {
            "text/plain": [
              "array([[4.900915 ],\n",
              "       [4.8644695],\n",
              "       [4.774048 ],\n",
              "       [4.6997905],\n",
              "       [4.6287766],\n",
              "       [4.573485 ],\n",
              "       [4.532139 ],\n",
              "       [4.4997616],\n",
              "       [4.495342 ],\n",
              "       [4.508802 ],\n",
              "       [4.5263925],\n",
              "       [4.5327945],\n",
              "       [4.558239 ],\n",
              "       [4.5896816],\n",
              "       [4.619741 ],\n",
              "       [4.6628156],\n",
              "       [4.7483134],\n",
              "       [4.8922596],\n",
              "       [5.0080595],\n",
              "       [5.080175 ],\n",
              "       [5.1189294],\n",
              "       [5.1273994],\n",
              "       [5.161685 ],\n",
              "       [5.184455 ],\n",
              "       [5.1819463],\n",
              "       [5.2031827],\n",
              "       [5.2850366],\n",
              "       [5.3586516],\n",
              "       [5.4473357],\n",
              "       [5.5385795],\n",
              "       [5.607729 ]], dtype=float32)"
            ]
          },
          "metadata": {
            "tags": []
          },
          "execution_count": 51
        }
      ]
    },
    {
      "cell_type": "code",
      "metadata": {
        "colab": {
          "base_uri": "https://localhost:8080/"
        },
        "id": "7177UvRmtUC0",
        "outputId": "70734e59-ea99-405e-d5f4-bdd282dd278c"
      },
      "source": [
        "RMSE = math.sqrt(mean_squared_error(Y_test,x))\n",
        "RMSE"
      ],
      "execution_count": null,
      "outputs": [
        {
          "output_type": "execute_result",
          "data": {
            "text/plain": [
              "0.08874560981379766"
            ]
          },
          "metadata": {
            "tags": []
          },
          "execution_count": 90
        }
      ]
    },
    {
      "cell_type": "code",
      "metadata": {
        "id": "uxrX6IyExilX"
      },
      "source": [
        "train_predict = predict_stacked_model(stacked_model, Y_train)"
      ],
      "execution_count": null,
      "outputs": []
    },
    {
      "cell_type": "code",
      "metadata": {
        "colab": {
          "base_uri": "https://localhost:8080/"
        },
        "id": "i0BVhV548woL",
        "outputId": "1f8055b5-0dc7-4a8e-e97c-888ebe481e2f"
      },
      "source": [
        "train_predict"
      ],
      "execution_count": null,
      "outputs": [
        {
          "output_type": "execute_result",
          "data": {
            "text/plain": [
              "array([[0.4554663 , 0.46561274, 0.46908197],\n",
              "       [0.4581984 , 0.46143496, 0.46594557],\n",
              "       [0.46451434, 0.46008626, 0.46507403],\n",
              "       [0.4673696 , 0.45836592, 0.4627535 ],\n",
              "       [0.46535212, 0.4569319 , 0.4609075 ],\n",
              "       [0.46199104, 0.4576617 , 0.46015316],\n",
              "       [0.4410735 , 0.44982532, 0.44885066],\n",
              "       [0.4185486 , 0.43923858, 0.435146  ],\n",
              "       [0.40069473, 0.4247188 , 0.41921094],\n",
              "       [0.39483654, 0.4117566 , 0.40084133],\n",
              "       [0.3940589 , 0.39931875, 0.3871769 ],\n",
              "       [0.39420086, 0.3881691 , 0.37670022],\n",
              "       [0.39935353, 0.38173166, 0.37151712],\n",
              "       [0.40092686, 0.37639865, 0.36722872],\n",
              "       [0.40479422, 0.3742786 , 0.36585084],\n",
              "       [0.399765  , 0.3710382 , 0.36287454],\n",
              "       [0.40006304, 0.36957735, 0.36105826],\n",
              "       [0.4005349 , 0.36833468, 0.35901782],\n",
              "       [0.40451536, 0.36900878, 0.35891938],\n",
              "       [0.40722564, 0.37049788, 0.3601375 ],\n",
              "       [0.40432727, 0.36979103, 0.35888478],\n",
              "       [0.4028563 , 0.36918882, 0.3584455 ],\n",
              "       [0.402993  , 0.3695078 , 0.358936  ],\n",
              "       [0.3989997 , 0.3678554 , 0.35718417],\n",
              "       [0.3735742 , 0.362028  , 0.35164884],\n",
              "       [0.36062756, 0.35503575, 0.34162405],\n",
              "       [0.35889584, 0.34905082, 0.33361197],\n",
              "       [0.3698177 , 0.34570995, 0.32871407],\n",
              "       [0.3657752 , 0.33980712, 0.32247385],\n",
              "       [0.36035478, 0.3349079 , 0.31778008],\n",
              "       [0.34702092, 0.3288197 , 0.3118163 ],\n",
              "       [0.34080458, 0.32507622, 0.3082774 ],\n",
              "       [0.34231412, 0.323892  , 0.30744153],\n",
              "       [0.3420064 , 0.32240903, 0.30588055],\n",
              "       [0.34239566, 0.32144153, 0.3050099 ],\n",
              "       [0.3491364 , 0.32252315, 0.30621427],\n",
              "       [0.35335076, 0.32479715, 0.30983874],\n",
              "       [0.36385694, 0.33007425, 0.31617284],\n",
              "       [0.37022626, 0.3359279 , 0.32340646],\n",
              "       [0.3775095 , 0.34290516, 0.33135405],\n",
              "       [0.38177803, 0.34967008, 0.33901763],\n",
              "       [0.37811887, 0.35452086, 0.34451282],\n",
              "       [0.38152304, 0.360397  , 0.35048273],\n",
              "       [0.39441377, 0.36765492, 0.35754526],\n",
              "       [0.40810692, 0.3765487 , 0.3666748 ],\n",
              "       [0.4207067 , 0.38633847, 0.38021874],\n",
              "       [0.4378474 , 0.40215337, 0.39913812],\n",
              "       [0.4413572 , 0.41319796, 0.41195422],\n",
              "       [0.43811533, 0.42100957, 0.42065194],\n",
              "       [0.43974587, 0.42998508, 0.43006733],\n",
              "       [0.44143203, 0.43688962, 0.4370173 ],\n",
              "       [0.44219646, 0.44102138, 0.4409236 ],\n",
              "       [0.44193536, 0.44253162, 0.44203576],\n",
              "       [0.44262105, 0.44274083, 0.44187388],\n",
              "       [0.4429626 , 0.44156918, 0.44033465],\n",
              "       [0.43955946, 0.43780157, 0.43610135],\n",
              "       [0.4389746 , 0.43507698, 0.4331464 ],\n",
              "       [0.44076678, 0.4335656 , 0.4316333 ],\n",
              "       [0.43951622, 0.43083894, 0.4289272 ],\n",
              "       [0.4381303 , 0.42852116, 0.42679766],\n",
              "       [0.43768373, 0.42719722, 0.42566875],\n",
              "       [0.44075292, 0.42776617, 0.4260324 ],\n",
              "       [0.44237864, 0.42740053, 0.42548674],\n",
              "       [0.43909135, 0.42470556, 0.4225019 ],\n",
              "       [0.42640755, 0.41767707, 0.41490856],\n",
              "       [0.41946253, 0.41382173, 0.4106988 ],\n",
              "       [0.4007659 , 0.4022489 , 0.39478698],\n",
              "       [0.38904506, 0.39037982, 0.3796667 ],\n",
              "       [0.38532948, 0.38130456, 0.368464  ],\n",
              "       [0.378517  , 0.37120524, 0.3568428 ],\n",
              "       [0.37167114, 0.36292887, 0.34777185],\n",
              "       [0.3673932 , 0.35631275, 0.3406635 ],\n",
              "       [0.366995  , 0.35163024, 0.33585533],\n",
              "       [0.37503076, 0.3501532 , 0.33469176],\n",
              "       [0.3886197 , 0.35172096, 0.33670658],\n",
              "       [0.39835277, 0.35460842, 0.34213182],\n",
              "       [0.40616655, 0.35948306, 0.34919906],\n",
              "       [0.40476993, 0.36272627, 0.35383934],\n",
              "       [0.40208557, 0.366013  , 0.35793117],\n",
              "       [0.405026  , 0.37005392, 0.3622509 ],\n",
              "       [0.41082847, 0.37406117, 0.3657262 ],\n",
              "       [0.40783167, 0.3738794 , 0.36507967],\n",
              "       [0.40317044, 0.37278086, 0.36394227],\n",
              "       [0.4012535 , 0.3730895 , 0.36434808],\n",
              "       [0.40717506, 0.37587675, 0.36723986],\n",
              "       [0.41146284, 0.37885725, 0.3704894 ],\n",
              "       [0.4124701 , 0.38026518, 0.37218198],\n",
              "       [0.418462  , 0.38415873, 0.3765513 ],\n",
              "       [0.42221507, 0.387576  , 0.38183084],\n",
              "       [0.43125898, 0.39544192, 0.39134213],\n",
              "       [0.434037  , 0.40108636, 0.39811844],\n",
              "       [0.43607268, 0.40651646, 0.40420485],\n",
              "       [0.4400033 , 0.4123254 , 0.41048053],\n",
              "       [0.43729222, 0.41405955, 0.4122474 ],\n",
              "       [0.43298748, 0.41403323, 0.41184476],\n",
              "       [0.43019745, 0.41371164, 0.4111702 ],\n",
              "       [0.4247509 , 0.4107975 , 0.40686032],\n",
              "       [0.42119703, 0.40720236, 0.4021164 ],\n",
              "       [0.4226879 , 0.4054402 , 0.39972362],\n",
              "       [0.41923192, 0.4014592 , 0.39537528],\n",
              "       [0.42033815, 0.40041545, 0.39425915],\n",
              "       [0.42121154, 0.39988047, 0.3936727 ],\n",
              "       [0.41617188, 0.39683104, 0.39029565],\n",
              "       [0.41685316, 0.3967013 , 0.38991657],\n",
              "       [0.41637832, 0.39594367, 0.38902178],\n",
              "       [0.4166463 , 0.395597  , 0.38854793],\n",
              "       [0.41622254, 0.39485192, 0.38754934],\n",
              "       [0.4063592 , 0.3891896 , 0.38108543],\n",
              "       [0.40643072, 0.3881668 , 0.37972346],\n",
              "       [0.39343616, 0.37981752, 0.36888376],\n",
              "       [0.38608003, 0.37253478, 0.35982585],\n",
              "       [0.38461688, 0.36693433, 0.35287726],\n",
              "       [0.37512037, 0.35921103, 0.34431028],\n",
              "       [0.36850604, 0.35327506, 0.3379023 ],\n",
              "       [0.378347  , 0.35189843, 0.33596617],\n",
              "       [0.38124084, 0.350592  , 0.33530957],\n",
              "       [0.36801848, 0.34670255, 0.33221865],\n",
              "       [0.3663145 , 0.34552544, 0.33087313],\n",
              "       [0.36255032, 0.34391823, 0.32928252],\n",
              "       [0.3654642 , 0.34387287, 0.32910833],\n",
              "       [0.36220822, 0.34216803, 0.32719114],\n",
              "       [0.3565991 , 0.34013745, 0.3252924 ],\n",
              "       [0.36102694, 0.3408895 , 0.32618093],\n",
              "       [0.36308515, 0.3414833 , 0.32699108],\n",
              "       [0.3683102 , 0.34378245, 0.33000624],\n",
              "       [0.37322775, 0.34655714, 0.333205  ],\n",
              "       [0.36845368, 0.34735924, 0.33444166],\n",
              "       [0.37569407, 0.35130236, 0.33866593],\n",
              "       [0.38276798, 0.3553117 , 0.34285596],\n",
              "       [0.37926155, 0.35677862, 0.34455287],\n",
              "       [0.3842198 , 0.36018878, 0.34805095],\n",
              "       [0.38876012, 0.36347783, 0.35150796],\n",
              "       [0.3874599 , 0.36535376, 0.35365134],\n",
              "       [0.3896644 , 0.36802676, 0.35656086],\n",
              "       [0.38272285, 0.36838078, 0.35721686],\n",
              "       [0.37663054, 0.3688088 , 0.35797575],\n",
              "       [0.39191216, 0.37317804, 0.36140928],\n",
              "       [0.3999745 , 0.37727782, 0.3653316 ],\n",
              "       [0.41498247, 0.3846072 , 0.37660578],\n",
              "       [0.43914178, 0.4012038 , 0.39781758],\n",
              "       [0.44839594, 0.41469944, 0.41433337],\n",
              "       [0.45108688, 0.42653996, 0.42775273],\n",
              "       [0.45342568, 0.43732193, 0.43931064],\n",
              "       [0.4555059 , 0.44575754, 0.44803035],\n",
              "       [0.45698404, 0.45140165, 0.45391923],\n",
              "       [0.45714787, 0.4539676 , 0.4561948 ],\n",
              "       [0.45313838, 0.45215368, 0.45389503],\n",
              "       [0.45035192, 0.44937962, 0.4507241 ],\n",
              "       [0.4480618 , 0.44602352, 0.44701794],\n",
              "       [0.4495776 , 0.44428256, 0.44512108],\n",
              "       [0.45161828, 0.44292405, 0.44363272],\n",
              "       [0.45281824, 0.44149733, 0.44210073],\n",
              "       [0.45158195, 0.43932238, 0.43971583],\n",
              "       [0.4524208 , 0.4385963 , 0.43886095],\n",
              "       [0.45690885, 0.44002908, 0.44026953],\n",
              "       [0.46843114, 0.44668058, 0.44921026],\n",
              "       [0.47945312, 0.45647392, 0.46157375],\n",
              "       [0.47656778, 0.46147868, 0.4679617 ],\n",
              "       [0.47272068, 0.46621066, 0.47346243],\n",
              "       [0.45716503, 0.46230203, 0.46741346],\n",
              "       [0.4493186 , 0.45778865, 0.460655  ],\n",
              "       [0.44958207, 0.45483038, 0.45634928],\n",
              "       [0.45001656, 0.45142096, 0.45201668],\n",
              "       [0.45045015, 0.44895002, 0.44968775],\n",
              "       [0.4525808 , 0.44885474, 0.4499775 ],\n",
              "       [0.44884375, 0.44660756, 0.44760513],\n",
              "       [0.44962958, 0.44669282, 0.44767174],\n",
              "       [0.453717  , 0.44841713, 0.44958606],\n",
              "       [0.45597473, 0.4493337 , 0.4506963 ],\n",
              "       [0.45451537, 0.44849265, 0.4498914 ],\n",
              "       [0.45572272, 0.44896477, 0.45047948],\n",
              "       [0.45288983, 0.44739124, 0.44882017],\n",
              "       [0.45175084, 0.44653302, 0.4478778 ],\n",
              "       [0.45521802, 0.44780782, 0.44920823],\n",
              "       [0.45260406, 0.4459542 , 0.44713894],\n",
              "       [0.44630125, 0.44274807, 0.44433525],\n",
              "       [0.439365  , 0.4386844 , 0.43890575],\n",
              "       [0.4328405 , 0.4324063 , 0.43051818],\n",
              "       [0.43000826, 0.4263352 , 0.423056  ],\n",
              "       [0.427613  , 0.42038915, 0.41617388],\n",
              "       [0.42984352, 0.41759676, 0.41332555],\n",
              "       [0.42864135, 0.4142332 , 0.40973315],\n",
              "       [0.4263762 , 0.41102177, 0.40634143],\n",
              "       [0.41864204, 0.40552667, 0.4003832 ],\n",
              "       [0.41482082, 0.40157717, 0.39519596],\n",
              "       [0.41165677, 0.39707115, 0.38972628],\n",
              "       [0.41025668, 0.39325097, 0.38524458],\n",
              "       [0.41064826, 0.39054003, 0.38211414],\n",
              "       [0.41031113, 0.38777637, 0.37896302],\n",
              "       [0.4058713 , 0.3832382 , 0.37389347],\n",
              "       [0.40574315, 0.3810388 , 0.37145033],\n",
              "       [0.404608  , 0.37863967, 0.368843  ],\n",
              "       [0.40145937, 0.37555975, 0.3655585 ],\n",
              "       [0.40200868, 0.3746131 , 0.36456674],\n",
              "       [0.39975104, 0.37257048, 0.36240524],\n",
              "       [0.38752037, 0.36885786, 0.35876387],\n",
              "       [0.37534183, 0.36344746, 0.35186508],\n",
              "       [0.3655381 , 0.35642403, 0.3426666 ],\n",
              "       [0.3577103 , 0.349021  , 0.3336067 ],\n",
              "       [0.3454698 , 0.3405545 , 0.32396787],\n",
              "       [0.33405793, 0.33285722, 0.31553996],\n",
              "       [0.3301251 , 0.32575563, 0.30624068],\n",
              "       [0.32617784, 0.3192421 , 0.2989167 ],\n",
              "       [0.32995582, 0.31551993, 0.29468897],\n",
              "       [0.33302623, 0.31307608, 0.29236013],\n",
              "       [0.33732393, 0.31234598, 0.2919144 ]], dtype=float32)"
            ]
          },
          "metadata": {
            "tags": []
          },
          "execution_count": 89
        }
      ]
    },
    {
      "cell_type": "code",
      "metadata": {
        "id": "AV2PVjG59V0l"
      },
      "source": [
        "xt, yt, zt = train_predict.T"
      ],
      "execution_count": null,
      "outputs": []
    },
    {
      "cell_type": "code",
      "metadata": {
        "id": "e2rTX4Xn9kTq"
      },
      "source": [
        "avgt = (xt + yt + zt)/3\n",
        "avgt = np.reshape(avgt,(1, avgt.size))\n",
        "avgt = avgt.T"
      ],
      "execution_count": null,
      "outputs": []
    },
    {
      "cell_type": "code",
      "metadata": {
        "id": "8nknwzt1-bLy"
      },
      "source": [
        "train_predict=scaler.inverse_transform(avgt)\n"
      ],
      "execution_count": null,
      "outputs": []
    },
    {
      "cell_type": "code",
      "metadata": {
        "colab": {
          "base_uri": "https://localhost:8080/"
        },
        "id": "fS9S__aM-EW2",
        "outputId": "1b1f0b6c-face-40bd-a085-6d84ee79c7cb"
      },
      "source": [
        "avgt.shape"
      ],
      "execution_count": null,
      "outputs": [
        {
          "output_type": "execute_result",
          "data": {
            "text/plain": [
              "(206, 1)"
            ]
          },
          "metadata": {
            "tags": []
          },
          "execution_count": 103
        }
      ]
    },
    {
      "cell_type": "code",
      "metadata": {
        "id": "k4svha_hA2QR"
      },
      "source": [
        "train_predict=scaler.inverse_transform(avgt)"
      ],
      "execution_count": null,
      "outputs": []
    },
    {
      "cell_type": "code",
      "metadata": {
        "colab": {
          "base_uri": "https://localhost:8080/",
          "height": 295
        },
        "id": "SzG0PWcnwlhM",
        "outputId": "af7cd9ee-2f0d-476b-c36b-522e3721c4e3"
      },
      "source": [
        "\n",
        "### Plotting \n",
        "# shift train predictions for plotting\n",
        "look_back=100\n",
        "trainPredictPlot = numpy.empty_like(df)\n",
        "trainPredictPlot[:, :] = np.nan\n",
        "trainPredictPlot[look_back:len(avgt)+look_back, :] = avgt\n",
        "# shift test predictions for plotting\n",
        "testPredictPlot = numpy.empty_like(df)\n",
        "testPredictPlot[:, :] = numpy.nan\n",
        "testPredictPlot[len(avgt)+(look_back*2)+1:len(df)-1, :] = avg\n",
        "# plot baseline and predictions\n",
        "plt.plot(scaler.inverse_transform(df),color ='blue', label ='original')\n",
        "plt.plot(trainPredictPlot, color ='orange', label ='predicted')\n",
        "plt.plot(testPredictPlot , color ='red', label ='tested')\n",
        "#plt.show()\n",
        "plt.xlabel('number of days')\n",
        "plt.ylabel('volatility magnitude')\n",
        "plt.title('ABBANk Risk Factor Prediction')\n",
        "plt.legend(loc='best')\n",
        "plt.show(block=False)\n"
      ],
      "execution_count": null,
      "outputs": [
        {
          "output_type": "display_data",
          "data": {
            "image/png": "[encoded data removed]",
            "text/plain": [
              "<Figure size 432x288 with 1 Axes>"
            ]
          },
          "metadata": {
            "tags": [],
            "needs_background": "light"
          }
        }
      ]
    },
    {
      "cell_type": "code",
      "metadata": {
        "colab": {
          "base_uri": "https://localhost:8080/"
        },
        "id": "Oy4aDGzQyAya",
        "outputId": "e47194c5-3c87-45cd-b959-dbbb34ea81e5"
      },
      "source": [
        "\n",
        "x_input=test_data[32:].reshape(1,-1)\n",
        "x_input.shape"
      ],
      "execution_count": null,
      "outputs": [
        {
          "output_type": "execute_result",
          "data": {
            "text/plain": [
              "(1, 100)"
            ]
          },
          "metadata": {
            "tags": []
          },
          "execution_count": 109
        }
      ]
    },
    {
      "cell_type": "code",
      "metadata": {
        "id": "aV4yFQNOyHmd"
      },
      "source": [
        "\n",
        "temp_input=list(x_input)\n",
        "temp_input=temp_input[0].tolist()"
      ],
      "execution_count": null,
      "outputs": []
    },
    {
      "cell_type": "code",
      "metadata": {
        "colab": {
          "base_uri": "https://localhost:8080/"
        },
        "id": "lBuP1o89CWz2",
        "outputId": "7f9ec981-e99c-42c7-8c1e-60e5e3c774af"
      },
      "source": [
        "# demonstrate prediction for next 10 days\n",
        "from numpy import array\n",
        "\n",
        "lst_output=[]\n",
        "n_steps=100\n",
        "i=0\n",
        "while(i<10):\n",
        "    \n",
        "    if(len(temp_input)>100):\n",
        "        #print(temp_input)\n",
        "        x_input=np.array(temp_input[1:])\n",
        "        print(\"{} day input {}\".format(i,x_input))\n",
        "        x_input=x_input.reshape(1,-1)\n",
        "        x_input = x_input.reshape((1, n_steps, 1))\n",
        "        #print(x_input)\n",
        "        yhat = model.predict(x_input, verbose=0)\n",
        "        print(\"{} day output {}\".format(i,yhat))\n",
        "        temp_input.extend(yhat[0].tolist())\n",
        "        temp_input=temp_input[1:]\n",
        "        #print(temp_input)\n",
        "        lst_output.extend(yhat.tolist())\n",
        "        i=i+1\n",
        "    else:\n",
        "        x_input = x_input.reshape((1, n_steps,1))\n",
        "        yhat = model.predict(x_input, verbose=0)\n",
        "        print(yhat[0])\n",
        "        temp_input.extend(yhat[0].tolist())\n",
        "        print(len(temp_input))\n",
        "        lst_output.extend(yhat.tolist())\n",
        "        i=i+1\n",
        "    \n",
        "\n",
        "#print(lst_output)\n"
      ],
      "execution_count": null,
      "outputs": [
        {
          "output_type": "stream",
          "text": [
            "[0.5754675]\n",
            "101\n",
            "1 day input [0.19637454 0.23595973 0.22257788 0.2173258  0.21473743 0.21418279\n",
            " 0.21417837 0.21345271 0.21346281 0.22091394 0.22331182 0.22250533\n",
            " 0.22434666 0.22436852 0.24559362 0.26787125 0.39495657 0.40315324\n",
            " 0.40086805 0.39851429 0.40051879 0.3930397  0.37405126 0.37400227\n",
            " 0.37894944 0.37857565 0.37882017 0.38140236 0.38436693 0.39265392\n",
            " 0.4045641  0.40237512 0.40263621 0.40293339 0.42012897 0.41326988\n",
            " 0.40716088 0.28425822 0.26030664 0.2580653  0.25977032 0.31616806\n",
            " 0.4269634  0.42589926 0.42867864 0.46343664 0.51072293 0.51200998\n",
            " 0.51044704 0.56087641 0.55477182 0.54202056 0.54105916 0.53837811\n",
            " 0.53840698 0.52811939 0.52262389 0.50997041 0.50976193 0.50976193\n",
            " 0.50865493 0.50687578 0.46974471 0.45346391 0.5040401  0.50224654\n",
            " 0.46475357 0.41289481 0.40962568 0.40932475 0.33503132 0.33503132\n",
            " 0.33503132 0.33503132 0.33503132 0.33503132 0.33503132 0.33503132\n",
            " 0.33503132 0.33503132 0.40247704 0.40864274 0.43789422 0.43789422\n",
            " 0.41266553 0.34444551 0.41492208 0.41492208 0.41492208 0.49454463\n",
            " 0.52963645 0.53544762 0.5946037  0.61098495 0.62356109 0.64721603\n",
            " 0.65125038 0.68625848 0.6882673  0.57546753]\n",
            "1 day output [[0.5530337]]\n",
            "2 day input [0.23595973 0.22257788 0.2173258  0.21473743 0.21418279 0.21417837\n",
            " 0.21345271 0.21346281 0.22091394 0.22331182 0.22250533 0.22434666\n",
            " 0.22436852 0.24559362 0.26787125 0.39495657 0.40315324 0.40086805\n",
            " 0.39851429 0.40051879 0.3930397  0.37405126 0.37400227 0.37894944\n",
            " 0.37857565 0.37882017 0.38140236 0.38436693 0.39265392 0.4045641\n",
            " 0.40237512 0.40263621 0.40293339 0.42012897 0.41326988 0.40716088\n",
            " 0.28425822 0.26030664 0.2580653  0.25977032 0.31616806 0.4269634\n",
            " 0.42589926 0.42867864 0.46343664 0.51072293 0.51200998 0.51044704\n",
            " 0.56087641 0.55477182 0.54202056 0.54105916 0.53837811 0.53840698\n",
            " 0.52811939 0.52262389 0.50997041 0.50976193 0.50976193 0.50865493\n",
            " 0.50687578 0.46974471 0.45346391 0.5040401  0.50224654 0.46475357\n",
            " 0.41289481 0.40962568 0.40932475 0.33503132 0.33503132 0.33503132\n",
            " 0.33503132 0.33503132 0.33503132 0.33503132 0.33503132 0.33503132\n",
            " 0.33503132 0.40247704 0.40864274 0.43789422 0.43789422 0.41266553\n",
            " 0.34444551 0.41492208 0.41492208 0.41492208 0.49454463 0.52963645\n",
            " 0.53544762 0.5946037  0.61098495 0.62356109 0.64721603 0.65125038\n",
            " 0.68625848 0.6882673  0.57546753 0.55303371]\n",
            "2 day output [[0.53097296]]\n",
            "3 day input [0.22257788 0.2173258  0.21473743 0.21418279 0.21417837 0.21345271\n",
            " 0.21346281 0.22091394 0.22331182 0.22250533 0.22434666 0.22436852\n",
            " 0.24559362 0.26787125 0.39495657 0.40315324 0.40086805 0.39851429\n",
            " 0.40051879 0.3930397  0.37405126 0.37400227 0.37894944 0.37857565\n",
            " 0.37882017 0.38140236 0.38436693 0.39265392 0.4045641  0.40237512\n",
            " 0.40263621 0.40293339 0.42012897 0.41326988 0.40716088 0.28425822\n",
            " 0.26030664 0.2580653  0.25977032 0.31616806 0.4269634  0.42589926\n",
            " 0.42867864 0.46343664 0.51072293 0.51200998 0.51044704 0.56087641\n",
            " 0.55477182 0.54202056 0.54105916 0.53837811 0.53840698 0.52811939\n",
            " 0.52262389 0.50997041 0.50976193 0.50976193 0.50865493 0.50687578\n",
            " 0.46974471 0.45346391 0.5040401  0.50224654 0.46475357 0.41289481\n",
            " 0.40962568 0.40932475 0.33503132 0.33503132 0.33503132 0.33503132\n",
            " 0.33503132 0.33503132 0.33503132 0.33503132 0.33503132 0.33503132\n",
            " 0.40247704 0.40864274 0.43789422 0.43789422 0.41266553 0.34444551\n",
            " 0.41492208 0.41492208 0.41492208 0.49454463 0.52963645 0.53544762\n",
            " 0.5946037  0.61098495 0.62356109 0.64721603 0.65125038 0.68625848\n",
            " 0.6882673  0.57546753 0.55303371 0.53097296]\n",
            "3 day output [[0.51124245]]\n",
            "4 day input [0.2173258  0.21473743 0.21418279 0.21417837 0.21345271 0.21346281\n",
            " 0.22091394 0.22331182 0.22250533 0.22434666 0.22436852 0.24559362\n",
            " 0.26787125 0.39495657 0.40315324 0.40086805 0.39851429 0.40051879\n",
            " 0.3930397  0.37405126 0.37400227 0.37894944 0.37857565 0.37882017\n",
            " 0.38140236 0.38436693 0.39265392 0.4045641  0.40237512 0.40263621\n",
            " 0.40293339 0.42012897 0.41326988 0.40716088 0.28425822 0.26030664\n",
            " 0.2580653  0.25977032 0.31616806 0.4269634  0.42589926 0.42867864\n",
            " 0.46343664 0.51072293 0.51200998 0.51044704 0.56087641 0.55477182\n",
            " 0.54202056 0.54105916 0.53837811 0.53840698 0.52811939 0.52262389\n",
            " 0.50997041 0.50976193 0.50976193 0.50865493 0.50687578 0.46974471\n",
            " 0.45346391 0.5040401  0.50224654 0.46475357 0.41289481 0.40962568\n",
            " 0.40932475 0.33503132 0.33503132 0.33503132 0.33503132 0.33503132\n",
            " 0.33503132 0.33503132 0.33503132 0.33503132 0.33503132 0.40247704\n",
            " 0.40864274 0.43789422 0.43789422 0.41266553 0.34444551 0.41492208\n",
            " 0.41492208 0.41492208 0.49454463 0.52963645 0.53544762 0.5946037\n",
            " 0.61098495 0.62356109 0.64721603 0.65125038 0.68625848 0.6882673\n",
            " 0.57546753 0.55303371 0.53097296 0.51124245]\n",
            "4 day output [[0.49441388]]\n",
            "5 day input [0.21473743 0.21418279 0.21417837 0.21345271 0.21346281 0.22091394\n",
            " 0.22331182 0.22250533 0.22434666 0.22436852 0.24559362 0.26787125\n",
            " 0.39495657 0.40315324 0.40086805 0.39851429 0.40051879 0.3930397\n",
            " 0.37405126 0.37400227 0.37894944 0.37857565 0.37882017 0.38140236\n",
            " 0.38436693 0.39265392 0.4045641  0.40237512 0.40263621 0.40293339\n",
            " 0.42012897 0.41326988 0.40716088 0.28425822 0.26030664 0.2580653\n",
            " 0.25977032 0.31616806 0.4269634  0.42589926 0.42867864 0.46343664\n",
            " 0.51072293 0.51200998 0.51044704 0.56087641 0.55477182 0.54202056\n",
            " 0.54105916 0.53837811 0.53840698 0.52811939 0.52262389 0.50997041\n",
            " 0.50976193 0.50976193 0.50865493 0.50687578 0.46974471 0.45346391\n",
            " 0.5040401  0.50224654 0.46475357 0.41289481 0.40962568 0.40932475\n",
            " 0.33503132 0.33503132 0.33503132 0.33503132 0.33503132 0.33503132\n",
            " 0.33503132 0.33503132 0.33503132 0.33503132 0.40247704 0.40864274\n",
            " 0.43789422 0.43789422 0.41266553 0.34444551 0.41492208 0.41492208\n",
            " 0.41492208 0.49454463 0.52963645 0.53544762 0.5946037  0.61098495\n",
            " 0.62356109 0.64721603 0.65125038 0.68625848 0.6882673  0.57546753\n",
            " 0.55303371 0.53097296 0.51124245 0.49441388]\n",
            "5 day output [[0.4804997]]\n",
            "6 day input [0.21418279 0.21417837 0.21345271 0.21346281 0.22091394 0.22331182\n",
            " 0.22250533 0.22434666 0.22436852 0.24559362 0.26787125 0.39495657\n",
            " 0.40315324 0.40086805 0.39851429 0.40051879 0.3930397  0.37405126\n",
            " 0.37400227 0.37894944 0.37857565 0.37882017 0.38140236 0.38436693\n",
            " 0.39265392 0.4045641  0.40237512 0.40263621 0.40293339 0.42012897\n",
            " 0.41326988 0.40716088 0.28425822 0.26030664 0.2580653  0.25977032\n",
            " 0.31616806 0.4269634  0.42589926 0.42867864 0.46343664 0.51072293\n",
            " 0.51200998 0.51044704 0.56087641 0.55477182 0.54202056 0.54105916\n",
            " 0.53837811 0.53840698 0.52811939 0.52262389 0.50997041 0.50976193\n",
            " 0.50976193 0.50865493 0.50687578 0.46974471 0.45346391 0.5040401\n",
            " 0.50224654 0.46475357 0.41289481 0.40962568 0.40932475 0.33503132\n",
            " 0.33503132 0.33503132 0.33503132 0.33503132 0.33503132 0.33503132\n",
            " 0.33503132 0.33503132 0.33503132 0.40247704 0.40864274 0.43789422\n",
            " 0.43789422 0.41266553 0.34444551 0.41492208 0.41492208 0.41492208\n",
            " 0.49454463 0.52963645 0.53544762 0.5946037  0.61098495 0.62356109\n",
            " 0.64721603 0.65125038 0.68625848 0.6882673  0.57546753 0.55303371\n",
            " 0.53097296 0.51124245 0.49441388 0.48049971]\n",
            "6 day output [[0.46919957]]\n",
            "7 day input [0.21417837 0.21345271 0.21346281 0.22091394 0.22331182 0.22250533\n",
            " 0.22434666 0.22436852 0.24559362 0.26787125 0.39495657 0.40315324\n",
            " 0.40086805 0.39851429 0.40051879 0.3930397  0.37405126 0.37400227\n",
            " 0.37894944 0.37857565 0.37882017 0.38140236 0.38436693 0.39265392\n",
            " 0.4045641  0.40237512 0.40263621 0.40293339 0.42012897 0.41326988\n",
            " 0.40716088 0.28425822 0.26030664 0.2580653  0.25977032 0.31616806\n",
            " 0.4269634  0.42589926 0.42867864 0.46343664 0.51072293 0.51200998\n",
            " 0.51044704 0.56087641 0.55477182 0.54202056 0.54105916 0.53837811\n",
            " 0.53840698 0.52811939 0.52262389 0.50997041 0.50976193 0.50976193\n",
            " 0.50865493 0.50687578 0.46974471 0.45346391 0.5040401  0.50224654\n",
            " 0.46475357 0.41289481 0.40962568 0.40932475 0.33503132 0.33503132\n",
            " 0.33503132 0.33503132 0.33503132 0.33503132 0.33503132 0.33503132\n",
            " 0.33503132 0.33503132 0.40247704 0.40864274 0.43789422 0.43789422\n",
            " 0.41266553 0.34444551 0.41492208 0.41492208 0.41492208 0.49454463\n",
            " 0.52963645 0.53544762 0.5946037  0.61098495 0.62356109 0.64721603\n",
            " 0.65125038 0.68625848 0.6882673  0.57546753 0.55303371 0.53097296\n",
            " 0.51124245 0.49441388 0.48049971 0.46919957]\n",
            "7 day output [[0.46008858]]\n",
            "8 day input [0.21345271 0.21346281 0.22091394 0.22331182 0.22250533 0.22434666\n",
            " 0.22436852 0.24559362 0.26787125 0.39495657 0.40315324 0.40086805\n",
            " 0.39851429 0.40051879 0.3930397  0.37405126 0.37400227 0.37894944\n",
            " 0.37857565 0.37882017 0.38140236 0.38436693 0.39265392 0.4045641\n",
            " 0.40237512 0.40263621 0.40293339 0.42012897 0.41326988 0.40716088\n",
            " 0.28425822 0.26030664 0.2580653  0.25977032 0.31616806 0.4269634\n",
            " 0.42589926 0.42867864 0.46343664 0.51072293 0.51200998 0.51044704\n",
            " 0.56087641 0.55477182 0.54202056 0.54105916 0.53837811 0.53840698\n",
            " 0.52811939 0.52262389 0.50997041 0.50976193 0.50976193 0.50865493\n",
            " 0.50687578 0.46974471 0.45346391 0.5040401  0.50224654 0.46475357\n",
            " 0.41289481 0.40962568 0.40932475 0.33503132 0.33503132 0.33503132\n",
            " 0.33503132 0.33503132 0.33503132 0.33503132 0.33503132 0.33503132\n",
            " 0.33503132 0.40247704 0.40864274 0.43789422 0.43789422 0.41266553\n",
            " 0.34444551 0.41492208 0.41492208 0.41492208 0.49454463 0.52963645\n",
            " 0.53544762 0.5946037  0.61098495 0.62356109 0.64721603 0.65125038\n",
            " 0.68625848 0.6882673  0.57546753 0.55303371 0.53097296 0.51124245\n",
            " 0.49441388 0.48049971 0.46919957 0.46008858]\n",
            "8 day output [[0.45270246]]\n",
            "9 day input [0.21346281 0.22091394 0.22331182 0.22250533 0.22434666 0.22436852\n",
            " 0.24559362 0.26787125 0.39495657 0.40315324 0.40086805 0.39851429\n",
            " 0.40051879 0.3930397  0.37405126 0.37400227 0.37894944 0.37857565\n",
            " 0.37882017 0.38140236 0.38436693 0.39265392 0.4045641  0.40237512\n",
            " 0.40263621 0.40293339 0.42012897 0.41326988 0.40716088 0.28425822\n",
            " 0.26030664 0.2580653  0.25977032 0.31616806 0.4269634  0.42589926\n",
            " 0.42867864 0.46343664 0.51072293 0.51200998 0.51044704 0.56087641\n",
            " 0.55477182 0.54202056 0.54105916 0.53837811 0.53840698 0.52811939\n",
            " 0.52262389 0.50997041 0.50976193 0.50976193 0.50865493 0.50687578\n",
            " 0.46974471 0.45346391 0.5040401  0.50224654 0.46475357 0.41289481\n",
            " 0.40962568 0.40932475 0.33503132 0.33503132 0.33503132 0.33503132\n",
            " 0.33503132 0.33503132 0.33503132 0.33503132 0.33503132 0.33503132\n",
            " 0.40247704 0.40864274 0.43789422 0.43789422 0.41266553 0.34444551\n",
            " 0.41492208 0.41492208 0.41492208 0.49454463 0.52963645 0.53544762\n",
            " 0.5946037  0.61098495 0.62356109 0.64721603 0.65125038 0.68625848\n",
            " 0.6882673  0.57546753 0.55303371 0.53097296 0.51124245 0.49441388\n",
            " 0.48049971 0.46919957 0.46008858 0.45270246]\n",
            "9 day output [[0.44657534]]\n"
          ],
          "name": "stdout"
        }
      ]
    },
    {
      "cell_type": "code",
      "metadata": {
        "id": "krSUJdkNCZYt"
      },
      "source": [
        "import numpy as np\n",
        "import pandas as pd\n",
        "import matplotlib.pyplot as plt"
      ],
      "execution_count": null,
      "outputs": []
    },
    {
      "cell_type": "code",
      "metadata": {
        "id": "TyBgjMX-CcUm"
      },
      "source": [
        "day_new=np.arange(1,101)\n",
        "day_pred=np.arange(101,111)"
      ],
      "execution_count": null,
      "outputs": []
    },
    {
      "cell_type": "code",
      "metadata": {
        "colab": {
          "base_uri": "https://localhost:8080/",
          "height": 295
        },
        "id": "jMy_jmY8Cdoe",
        "outputId": "0eaacdbb-5ac5-4002-c085-474396ac425b"
      },
      "source": [
        "\n",
        "plt.plot(day_new,scaler.inverse_transform(df[339:]),color ='blue', label ='origial')\n",
        "plt.plot(day_pred,scaler.inverse_transform(lst_output),color='red', label='future')\n",
        "plt.xlabel('last 100 days+ future 30 days')\n",
        "plt.ylabel('volatility magnitude')\n",
        "plt.title('Next 10 Days Forecasting')\n",
        "plt.legend(loc='best')\n",
        "plt.show(block=False)"
      ],
      "execution_count": null,
      "outputs": [
        {
          "output_type": "display_data",
          "data": {
            "image/png": "[encoded data removed]",
            "text/plain": [
              "<Figure size 432x288 with 1 Axes>"
            ]
          },
          "metadata": {
            "tags": [],
            "needs_background": "light"
          }
        }
      ]
    },
    {
      "cell_type": "code",
      "metadata": {
        "id": "YsISWUycCezS"
      },
      "source": [
        "df3=df.tolist()\n",
        "df3.extend(lst_output)\n",
        "plt.xlabel('last 100 days+ future 30 days')\n",
        "plt.ylabel('volatility magnitude')\n",
        "plt.title('Next 30 Days Forecasting')\n",
        "plt.plot(df3[409:],color='red', label='future')\n",
        "plt.legend(loc='best')\n",
        "plt.show(block=False)"
      ],
      "execution_count": null,
      "outputs": []
    },
    {
      "cell_type": "code",
      "metadata": {
        "id": "5qkoamfeCgl9"
      },
      "source": [
        "df3=scaler.inverse_transform(df3).tolist()"
      ],
      "execution_count": null,
      "outputs": []
    },
    {
      "cell_type": "code",
      "metadata": {
        "id": "-mcpywnbCiZT"
      },
      "source": [
        "plt.plot(df3)"
      ],
      "execution_count": null,
      "outputs": []
    }
  ]
}